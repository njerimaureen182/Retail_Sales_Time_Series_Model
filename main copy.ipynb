{
 "cells": [
  {
   "cell_type": "markdown",
   "id": "3e6b3a77",
   "metadata": {},
   "source": [
    "Import the necessary modules"
   ]
  },
  {
   "cell_type": "code",
   "execution_count": 311,
   "id": "fc7bf94f",
   "metadata": {},
   "outputs": [],
   "source": [
    "import pandas as pd\n",
    "import matplotlib.pyplot as plt\n",
    "import numpy as np\n",
    "%matplotlib inline\n",
    "# import requests\n",
    "import plotly.express as px\n",
    "from plotly.subplots import make_subplots\n",
    "import plotly.graph_objects as go\n",
    "import fredapi as fa\n",
    "from local_settings import fred as settings\n",
    "from statsmodels.tsa.stattools import adfuller\n",
    "from statsmodels.tsa.seasonal import seasonal_decompose\n",
    "from statsmodels.tsa.arima.model import ARIMA\n",
    "from sklearn.metrics import mean_absolute_error, mean_squared_error, mean_absolute_percentage_error\n",
    "from statsmodels.graphics.tsaplots import plot_acf\n",
    "import warnings\n",
    "warnings.filterwarnings('ignore')"
   ]
  },
  {
   "cell_type": "code",
   "execution_count": 312,
   "id": "baeae135",
   "metadata": {},
   "outputs": [],
   "source": [
    "#import the API key\n",
    "fred = fa.Fred(settings['API_KEY'])"
   ]
  },
  {
   "cell_type": "code",
   "execution_count": 313,
   "id": "1d0ca3ab",
   "metadata": {},
   "outputs": [
    {
     "data": {
      "text/html": [
       "<div>\n",
       "<style scoped>\n",
       "    .dataframe tbody tr th:only-of-type {\n",
       "        vertical-align: middle;\n",
       "    }\n",
       "\n",
       "    .dataframe tbody tr th {\n",
       "        vertical-align: top;\n",
       "    }\n",
       "\n",
       "    .dataframe thead th {\n",
       "        text-align: right;\n",
       "    }\n",
       "</style>\n",
       "<table border=\"1\" class=\"dataframe\">\n",
       "  <thead>\n",
       "    <tr style=\"text-align: right;\">\n",
       "      <th></th>\n",
       "      <th>index</th>\n",
       "      <th>RSXFS</th>\n",
       "    </tr>\n",
       "  </thead>\n",
       "  <tbody>\n",
       "    <tr>\n",
       "      <th>0</th>\n",
       "      <td>1992-01-01</td>\n",
       "      <td>142419.0</td>\n",
       "    </tr>\n",
       "    <tr>\n",
       "      <th>1</th>\n",
       "      <td>1992-02-01</td>\n",
       "      <td>142584.0</td>\n",
       "    </tr>\n",
       "    <tr>\n",
       "      <th>2</th>\n",
       "      <td>1992-03-01</td>\n",
       "      <td>142120.0</td>\n",
       "    </tr>\n",
       "    <tr>\n",
       "      <th>3</th>\n",
       "      <td>1992-04-01</td>\n",
       "      <td>143659.0</td>\n",
       "    </tr>\n",
       "    <tr>\n",
       "      <th>4</th>\n",
       "      <td>1992-05-01</td>\n",
       "      <td>144239.0</td>\n",
       "    </tr>\n",
       "  </tbody>\n",
       "</table>\n",
       "</div>"
      ],
      "text/plain": [
       "       index     RSXFS\n",
       "0 1992-01-01  142419.0\n",
       "1 1992-02-01  142584.0\n",
       "2 1992-03-01  142120.0\n",
       "3 1992-04-01  143659.0\n",
       "4 1992-05-01  144239.0"
      ]
     },
     "execution_count": 313,
     "metadata": {},
     "output_type": "execute_result"
    }
   ],
   "source": [
    "#retrieve the data using the get_series() method and convert it to a dataframe\n",
    "df = fred.get_series('RSXFS').to_frame(name='RSXFS').reset_index()\n",
    "df.head()"
   ]
  },
  {
   "cell_type": "code",
   "execution_count": 314,
   "id": "0c3ce76f",
   "metadata": {},
   "outputs": [
    {
     "data": {
      "text/html": [
       "<div>\n",
       "<style scoped>\n",
       "    .dataframe tbody tr th:only-of-type {\n",
       "        vertical-align: middle;\n",
       "    }\n",
       "\n",
       "    .dataframe tbody tr th {\n",
       "        vertical-align: top;\n",
       "    }\n",
       "\n",
       "    .dataframe thead th {\n",
       "        text-align: right;\n",
       "    }\n",
       "</style>\n",
       "<table border=\"1\" class=\"dataframe\">\n",
       "  <thead>\n",
       "    <tr style=\"text-align: right;\">\n",
       "      <th></th>\n",
       "      <th>date</th>\n",
       "      <th>RSXFS</th>\n",
       "    </tr>\n",
       "  </thead>\n",
       "  <tbody>\n",
       "    <tr>\n",
       "      <th>0</th>\n",
       "      <td>1992-01-01</td>\n",
       "      <td>142419.0</td>\n",
       "    </tr>\n",
       "    <tr>\n",
       "      <th>1</th>\n",
       "      <td>1992-02-01</td>\n",
       "      <td>142584.0</td>\n",
       "    </tr>\n",
       "    <tr>\n",
       "      <th>2</th>\n",
       "      <td>1992-03-01</td>\n",
       "      <td>142120.0</td>\n",
       "    </tr>\n",
       "    <tr>\n",
       "      <th>3</th>\n",
       "      <td>1992-04-01</td>\n",
       "      <td>143659.0</td>\n",
       "    </tr>\n",
       "    <tr>\n",
       "      <th>4</th>\n",
       "      <td>1992-05-01</td>\n",
       "      <td>144239.0</td>\n",
       "    </tr>\n",
       "  </tbody>\n",
       "</table>\n",
       "</div>"
      ],
      "text/plain": [
       "        date     RSXFS\n",
       "0 1992-01-01  142419.0\n",
       "1 1992-02-01  142584.0\n",
       "2 1992-03-01  142120.0\n",
       "3 1992-04-01  143659.0\n",
       "4 1992-05-01  144239.0"
      ]
     },
     "execution_count": 314,
     "metadata": {},
     "output_type": "execute_result"
    }
   ],
   "source": [
    "#to rename the index column to date\n",
    "df = df.rename(columns={'index':'date'})\n",
    "df.head() "
   ]
  },
  {
   "cell_type": "markdown",
   "id": "a068f562",
   "metadata": {},
   "source": [
    "Data Preprocessing"
   ]
  },
  {
   "cell_type": "code",
   "execution_count": 315,
   "id": "56207de0",
   "metadata": {},
   "outputs": [
    {
     "data": {
      "text/plain": [
       "date     0\n",
       "RSXFS    0\n",
       "dtype: int64"
      ]
     },
     "execution_count": 315,
     "metadata": {},
     "output_type": "execute_result"
    }
   ],
   "source": [
    "#check for missing values - conlusion: there are no missing values in our data \n",
    "df.isnull().sum()"
   ]
  },
  {
   "cell_type": "code",
   "execution_count": 316,
   "id": "182dc294",
   "metadata": {},
   "outputs": [
    {
     "data": {
      "image/png": "[encoded data removed]",
      "text/plain": [
       "<Figure size 800x600 with 1 Axes>"
      ]
     },
     "metadata": {},
     "output_type": "display_data"
    }
   ],
   "source": [
    "#to visualize outliers using a boxplot - conclusion: there are no outliers in the data\n",
    "plt.figure(figsize=(8,6))\n",
    "df.boxplot() \n",
    "plt.show()"
   ]
  },
  {
   "cell_type": "code",
   "execution_count": 317,
   "id": "410a1630",
   "metadata": {},
   "outputs": [
    {
     "data": {
      "text/plain": [
       "0"
      ]
     },
     "execution_count": 317,
     "metadata": {},
     "output_type": "execute_result"
    }
   ],
   "source": [
    "#to check for duplicates in the index column - conclusion: no duplicates in the index column\n",
    "df['date'].duplicated().sum()"
   ]
  },
  {
   "cell_type": "code",
   "execution_count": 318,
   "id": "9d4738df",
   "metadata": {},
   "outputs": [
    {
     "data": {
      "text/plain": [
       "0"
      ]
     },
     "execution_count": 318,
     "metadata": {},
     "output_type": "execute_result"
    }
   ],
   "source": [
    "#to check for duplicates in the RSXFS column - conclusion: no duplicates in the RSXFS column\n",
    "df['RSXFS'].duplicated().sum()"
   ]
  },
  {
   "cell_type": "code",
   "execution_count": 319,
   "id": "fd44fcdd",
   "metadata": {},
   "outputs": [
    {
     "name": "stdout",
     "output_type": "stream",
     "text": [
      "<class 'pandas.core.frame.DataFrame'>\n",
      "RangeIndex: 400 entries, 0 to 399\n",
      "Data columns (total 2 columns):\n",
      " #   Column  Non-Null Count  Dtype         \n",
      "---  ------  --------------  -----         \n",
      " 0   date    400 non-null    datetime64[ns]\n",
      " 1   RSXFS   400 non-null    float64       \n",
      "dtypes: datetime64[ns](1), float64(1)\n",
      "memory usage: 6.4 KB\n"
     ]
    }
   ],
   "source": [
    "#to get the datatypes for our columns - our date column is already converted to a datetime object\n",
    "df.info()"
   ]
  },
  {
   "cell_type": "code",
   "execution_count": 320,
   "id": "35663597",
   "metadata": {},
   "outputs": [
    {
     "data": {
      "text/html": [
       "<div>\n",
       "<style scoped>\n",
       "    .dataframe tbody tr th:only-of-type {\n",
       "        vertical-align: middle;\n",
       "    }\n",
       "\n",
       "    .dataframe tbody tr th {\n",
       "        vertical-align: top;\n",
       "    }\n",
       "\n",
       "    .dataframe thead th {\n",
       "        text-align: right;\n",
       "    }\n",
       "</style>\n",
       "<table border=\"1\" class=\"dataframe\">\n",
       "  <thead>\n",
       "    <tr style=\"text-align: right;\">\n",
       "      <th></th>\n",
       "      <th>RSXFS</th>\n",
       "    </tr>\n",
       "    <tr>\n",
       "      <th>date</th>\n",
       "      <th></th>\n",
       "    </tr>\n",
       "  </thead>\n",
       "  <tbody>\n",
       "    <tr>\n",
       "      <th>1992-01-01</th>\n",
       "      <td>142419.0</td>\n",
       "    </tr>\n",
       "    <tr>\n",
       "      <th>1992-02-01</th>\n",
       "      <td>142584.0</td>\n",
       "    </tr>\n",
       "    <tr>\n",
       "      <th>1992-03-01</th>\n",
       "      <td>142120.0</td>\n",
       "    </tr>\n",
       "    <tr>\n",
       "      <th>1992-04-01</th>\n",
       "      <td>143659.0</td>\n",
       "    </tr>\n",
       "    <tr>\n",
       "      <th>1992-05-01</th>\n",
       "      <td>144239.0</td>\n",
       "    </tr>\n",
       "  </tbody>\n",
       "</table>\n",
       "</div>"
      ],
      "text/plain": [
       "               RSXFS\n",
       "date                \n",
       "1992-01-01  142419.0\n",
       "1992-02-01  142584.0\n",
       "1992-03-01  142120.0\n",
       "1992-04-01  143659.0\n",
       "1992-05-01  144239.0"
      ]
     },
     "execution_count": 320,
     "metadata": {},
     "output_type": "execute_result"
    }
   ],
   "source": [
    "#set the date column as the index of the dataframe to enable resampling and rolling operations (moving statistics like averages, sums) for a sliding time window\n",
    "df.set_index('date', inplace=True)\n",
    "df.head()"
   ]
  },
  {
   "cell_type": "code",
   "execution_count": 321,
   "id": "0167ae02",
   "metadata": {},
   "outputs": [
    {
     "data": {
      "text/html": [
       "<div>\n",
       "<style scoped>\n",
       "    .dataframe tbody tr th:only-of-type {\n",
       "        vertical-align: middle;\n",
       "    }\n",
       "\n",
       "    .dataframe tbody tr th {\n",
       "        vertical-align: top;\n",
       "    }\n",
       "\n",
       "    .dataframe thead th {\n",
       "        text-align: right;\n",
       "    }\n",
       "</style>\n",
       "<table border=\"1\" class=\"dataframe\">\n",
       "  <thead>\n",
       "    <tr style=\"text-align: right;\">\n",
       "      <th></th>\n",
       "      <th>RSXFS</th>\n",
       "    </tr>\n",
       "    <tr>\n",
       "      <th>date</th>\n",
       "      <th></th>\n",
       "    </tr>\n",
       "  </thead>\n",
       "  <tbody>\n",
       "    <tr>\n",
       "      <th>1992-01-05</th>\n",
       "      <td>NaN</td>\n",
       "    </tr>\n",
       "    <tr>\n",
       "      <th>1992-01-19</th>\n",
       "      <td>NaN</td>\n",
       "    </tr>\n",
       "    <tr>\n",
       "      <th>1992-02-02</th>\n",
       "      <td>NaN</td>\n",
       "    </tr>\n",
       "    <tr>\n",
       "      <th>1992-02-16</th>\n",
       "      <td>NaN</td>\n",
       "    </tr>\n",
       "    <tr>\n",
       "      <th>1992-03-01</th>\n",
       "      <td>142120.0</td>\n",
       "    </tr>\n",
       "  </tbody>\n",
       "</table>\n",
       "</div>"
      ],
      "text/plain": [
       "               RSXFS\n",
       "date                \n",
       "1992-01-05       NaN\n",
       "1992-01-19       NaN\n",
       "1992-02-02       NaN\n",
       "1992-02-16       NaN\n",
       "1992-03-01  142120.0"
      ]
     },
     "execution_count": 321,
     "metadata": {},
     "output_type": "execute_result"
    }
   ],
   "source": [
    "#perform upsampling by breaking the monthly date column to bi-weekly to get the retail sales made every two weeks from the sector. \n",
    "\n",
    "#using a frequency that ensures exact splits between the monthly entries\n",
    "df = df.asfreq('MS')\n",
    "\n",
    "#to anchor the dates since biweekly may interpolate between the start of months\n",
    "df_biweekly = df.resample('2W-SUN').asfreq()\n",
    "\n",
    "#use interpolation to fill in the missing values\n",
    "df_biweekly = df_biweekly.interpolate(method='time')\n",
    "df_biweekly.head()"
   ]
  },
  {
   "cell_type": "code",
   "execution_count": 322,
   "id": "9dcb3082",
   "metadata": {},
   "outputs": [
    {
     "data": {
      "text/plain": [
       "RSXFS    4\n",
       "dtype: int64"
      ]
     },
     "execution_count": 322,
     "metadata": {},
     "output_type": "execute_result"
    }
   ],
   "source": [
    "#to check for missing values in the data \n",
    "df_biweekly.isnull().sum() "
   ]
  },
  {
   "cell_type": "code",
   "execution_count": 323,
   "id": "e7a129e2",
   "metadata": {},
   "outputs": [],
   "source": [
    "#drop the missing values\n",
    "df_biweekly.dropna(inplace=True)"
   ]
  },
  {
   "cell_type": "code",
   "execution_count": 324,
   "id": "2eeff01a",
   "metadata": {},
   "outputs": [
    {
     "data": {
      "application/vnd.plotly.v1+json": {
       "config": {
        "plotlyServerURL": "https://plot.ly"
       },
       "data": [
        {
         "line": {
          "color": "steelblue"
         },
         "mode": "lines",
         "type": "scatter",
         "x": [
          "1992-01-01T00:00:00",
          "1992-02-01T00:00:00",
          "1992-03-01T00:00:00",
          "1992-04-01T00:00:00",
          "1992-05-01T00:00:00",
          "1992-06-01T00:00:00",
          "1992-07-01T00:00:00",
          "1992-08-01T00:00:00",
          "1992-09-01T00:00:00",
          "1992-10-01T00:00:00",
          "1992-11-01T00:00:00",
          "1992-12-01T00:00:00",
          "1993-01-01T00:00:00",
          "1993-02-01T00:00:00",
          "1993-03-01T00:00:00",
          "1993-04-01T00:00:00",
          "1993-05-01T00:00:00",
          "1993-06-01T00:00:00",
          "1993-07-01T00:00:00",
          "1993-08-01T00:00:00",
          "1993-09-01T00:00:00",
          "1993-10-01T00:00:00",
          "1993-11-01T00:00:00",
          "1993-12-01T00:00:00",
          "1994-01-01T00:00:00",
          "1994-02-01T00:00:00",
          "1994-03-01T00:00:00",
          "1994-04-01T00:00:00",
          "1994-05-01T00:00:00",
          "1994-06-01T00:00:00",
          "1994-07-01T00:00:00",
          "1994-08-01T00:00:00",
          "1994-09-01T00:00:00",
          "1994-10-01T00:00:00",
          "1994-11-01T00:00:00",
          "1994-12-01T00:00:00",
          "1995-01-01T00:00:00",
          "1995-02-01T00:00:00",
          "1995-03-01T00:00:00",
          "1995-04-01T00:00:00",
          "1995-05-01T00:00:00",
          "1995-06-01T00:00:00",
          "1995-07-01T00:00:00",
          "1995-08-01T00:00:00",
          "1995-09-01T00:00:00",
          "1995-10-01T00:00:00",
          "1995-11-01T00:00:00",
          "1995-12-01T00:00:00",
          "1996-01-01T00:00:00",
          "1996-02-01T00:00:00",
          "1996-03-01T00:00:00",
          "1996-04-01T00:00:00",
          "1996-05-01T00:00:00",
          "1996-06-01T00:00:00",
          "1996-07-01T00:00:00",
          "1996-08-01T00:00:00",
          "1996-09-01T00:00:00",
          "1996-10-01T00:00:00",
          "1996-11-01T00:00:00",
          "1996-12-01T00:00:00",
          "1997-01-01T00:00:00",
          "1997-02-01T00:00:00",
          "1997-03-01T00:00:00",
          "1997-04-01T00:00:00",
          "1997-05-01T00:00:00",
          "1997-06-01T00:00:00",
          "1997-07-01T00:00:00",
          "1997-08-01T00:00:00",
          "1997-09-01T00:00:00",
          "1997-10-01T00:00:00",
          "1997-11-01T00:00:00",
          "1997-12-01T00:00:00",
          "1998-01-01T00:00:00",
          "1998-02-01T00:00:00",
          "1998-03-01T00:00:00",
          "1998-04-01T00:00:00",
          "1998-05-01T00:00:00",
          "1998-06-01T00:00:00",
          "1998-07-01T00:00:00",
          "1998-08-01T00:00:00",
          "1998-09-01T00:00:00",
          "1998-10-01T00:00:00",
          "1998-11-01T00:00:00",
          "1998-12-01T00:00:00",
          "1999-01-01T00:00:00",
          "1999-02-01T00:00:00",
          "1999-03-01T00:00:00",
          "1999-04-01T00:00:00",
          "1999-05-01T00:00:00",
          "1999-06-01T00:00:00",
          "1999-07-01T00:00:00",
          "1999-08-01T00:00:00",
          "1999-09-01T00:00:00",
          "1999-10-01T00:00:00",
          "1999-11-01T00:00:00",
          "1999-12-01T00:00:00",
          "2000-01-01T00:00:00",
          "2000-02-01T00:00:00",
          "2000-03-01T00:00:00",
          "2000-04-01T00:00:00",
          "2000-05-01T00:00:00",
          "2000-06-01T00:00:00",
          "2000-07-01T00:00:00",
          "2000-08-01T00:00:00",
          "2000-09-01T00:00:00",
          "2000-10-01T00:00:00",
          "2000-11-01T00:00:00",
          "2000-12-01T00:00:00",
          "2001-01-01T00:00:00",
          "2001-02-01T00:00:00",
          "2001-03-01T00:00:00",
          "2001-04-01T00:00:00",
          "2001-05-01T00:00:00",
          "2001-06-01T00:00:00",
          "2001-07-01T00:00:00",
          "2001-08-01T00:00:00",
          "2001-09-01T00:00:00",
          "2001-10-01T00:00:00",
          "2001-11-01T00:00:00",
          "2001-12-01T00:00:00",
          "2002-01-01T00:00:00",
          "2002-02-01T00:00:00",
          "2002-03-01T00:00:00",
          "2002-04-01T00:00:00",
          "2002-05-01T00:00:00",
          "2002-06-01T00:00:00",
          "2002-07-01T00:00:00",
          "2002-08-01T00:00:00",
          "2002-09-01T00:00:00",
          "2002-10-01T00:00:00",
          "2002-11-01T00:00:00",
          "2002-12-01T00:00:00",
          "2003-01-01T00:00:00",
          "2003-02-01T00:00:00",
          "2003-03-01T00:00:00",
          "2003-04-01T00:00:00",
          "2003-05-01T00:00:00",
          "2003-06-01T00:00:00",
          "2003-07-01T00:00:00",
          "2003-08-01T00:00:00",
          "2003-09-01T00:00:00",
          "2003-10-01T00:00:00",
          "2003-11-01T00:00:00",
          "2003-12-01T00:00:00",
          "2004-01-01T00:00:00",
          "2004-02-01T00:00:00",
          "2004-03-01T00:00:00",
          "2004-04-01T00:00:00",
          "2004-05-01T00:00:00",
          "2004-06-01T00:00:00",
          "2004-07-01T00:00:00",
          "2004-08-01T00:00:00",
          "2004-09-01T00:00:00",
          "2004-10-01T00:00:00",
          "2004-11-01T00:00:00",
          "2004-12-01T00:00:00",
          "2005-01-01T00:00:00",
          "2005-02-01T00:00:00",
          "2005-03-01T00:00:00",
          "2005-04-01T00:00:00",
          "2005-05-01T00:00:00",
          "2005-06-01T00:00:00",
          "2005-07-01T00:00:00",
          "2005-08-01T00:00:00",
          "2005-09-01T00:00:00",
          "2005-10-01T00:00:00",
          "2005-11-01T00:00:00",
          "2005-12-01T00:00:00",
          "2006-01-01T00:00:00",
          "2006-02-01T00:00:00",
          "2006-03-01T00:00:00",
          "2006-04-01T00:00:00",
          "2006-05-01T00:00:00",
          "2006-06-01T00:00:00",
          "2006-07-01T00:00:00",
          "2006-08-01T00:00:00",
          "2006-09-01T00:00:00",
          "2006-10-01T00:00:00",
          "2006-11-01T00:00:00",
          "2006-12-01T00:00:00",
          "2007-01-01T00:00:00",
          "2007-02-01T00:00:00",
          "2007-03-01T00:00:00",
          "2007-04-01T00:00:00",
          "2007-05-01T00:00:00",
          "2007-06-01T00:00:00",
          "2007-07-01T00:00:00",
          "2007-08-01T00:00:00",
          "2007-09-01T00:00:00",
          "2007-10-01T00:00:00",
          "2007-11-01T00:00:00",
          "2007-12-01T00:00:00",
          "2008-01-01T00:00:00",
          "2008-02-01T00:00:00",
          "2008-03-01T00:00:00",
          "2008-04-01T00:00:00",
          "2008-05-01T00:00:00",
          "2008-06-01T00:00:00",
          "2008-07-01T00:00:00",
          "2008-08-01T00:00:00",
          "2008-09-01T00:00:00",
          "2008-10-01T00:00:00",
          "2008-11-01T00:00:00",
          "2008-12-01T00:00:00",
          "2009-01-01T00:00:00",
          "2009-02-01T00:00:00",
          "2009-03-01T00:00:00",
          "2009-04-01T00:00:00",
          "2009-05-01T00:00:00",
          "2009-06-01T00:00:00",
          "2009-07-01T00:00:00",
          "2009-08-01T00:00:00",
          "2009-09-01T00:00:00",
          "2009-10-01T00:00:00",
          "2009-11-01T00:00:00",
          "2009-12-01T00:00:00",
          "2010-01-01T00:00:00",
          "2010-02-01T00:00:00",
          "2010-03-01T00:00:00",
          "2010-04-01T00:00:00",
          "2010-05-01T00:00:00",
          "2010-06-01T00:00:00",
          "2010-07-01T00:00:00",
          "2010-08-01T00:00:00",
          "2010-09-01T00:00:00",
          "2010-10-01T00:00:00",
          "2010-11-01T00:00:00",
          "2010-12-01T00:00:00",
          "2011-01-01T00:00:00",
          "2011-02-01T00:00:00",
          "2011-03-01T00:00:00",
          "2011-04-01T00:00:00",
          "2011-05-01T00:00:00",
          "2011-06-01T00:00:00",
          "2011-07-01T00:00:00",
          "2011-08-01T00:00:00",
          "2011-09-01T00:00:00",
          "2011-10-01T00:00:00",
          "2011-11-01T00:00:00",
          "2011-12-01T00:00:00",
          "2012-01-01T00:00:00",
          "2012-02-01T00:00:00",
          "2012-03-01T00:00:00",
          "2012-04-01T00:00:00",
          "2012-05-01T00:00:00",
          "2012-06-01T00:00:00",
          "2012-07-01T00:00:00",
          "2012-08-01T00:00:00",
          "2012-09-01T00:00:00",
          "2012-10-01T00:00:00",
          "2012-11-01T00:00:00",
          "2012-12-01T00:00:00",
          "2013-01-01T00:00:00",
          "2013-02-01T00:00:00",
          "2013-03-01T00:00:00",
          "2013-04-01T00:00:00",
          "2013-05-01T00:00:00",
          "2013-06-01T00:00:00",
          "2013-07-01T00:00:00",
          "2013-08-01T00:00:00",
          "2013-09-01T00:00:00",
          "2013-10-01T00:00:00",
          "2013-11-01T00:00:00",
          "2013-12-01T00:00:00",
          "2014-01-01T00:00:00",
          "2014-02-01T00:00:00",
          "2014-03-01T00:00:00",
          "2014-04-01T00:00:00",
          "2014-05-01T00:00:00",
          "2014-06-01T00:00:00",
          "2014-07-01T00:00:00",
          "2014-08-01T00:00:00",
          "2014-09-01T00:00:00",
          "2014-10-01T00:00:00",
          "2014-11-01T00:00:00",
          "2014-12-01T00:00:00",
          "2015-01-01T00:00:00",
          "2015-02-01T00:00:00",
          "2015-03-01T00:00:00",
          "2015-04-01T00:00:00",
          "2015-05-01T00:00:00",
          "2015-06-01T00:00:00",
          "2015-07-01T00:00:00",
          "2015-08-01T00:00:00",
          "2015-09-01T00:00:00",
          "2015-10-01T00:00:00",
          "2015-11-01T00:00:00",
          "2015-12-01T00:00:00",
          "2016-01-01T00:00:00",
          "2016-02-01T00:00:00",
          "2016-03-01T00:00:00",
          "2016-04-01T00:00:00",
          "2016-05-01T00:00:00",
          "2016-06-01T00:00:00",
          "2016-07-01T00:00:00",
          "2016-08-01T00:00:00",
          "2016-09-01T00:00:00",
          "2016-10-01T00:00:00",
          "2016-11-01T00:00:00",
          "2016-12-01T00:00:00",
          "2017-01-01T00:00:00",
          "2017-02-01T00:00:00",
          "2017-03-01T00:00:00",
          "2017-04-01T00:00:00",
          "2017-05-01T00:00:00",
          "2017-06-01T00:00:00",
          "2017-07-01T00:00:00",
          "2017-08-01T00:00:00",
          "2017-09-01T00:00:00",
          "2017-10-01T00:00:00",
          "2017-11-01T00:00:00",
          "2017-12-01T00:00:00",
          "2018-01-01T00:00:00",
          "2018-02-01T00:00:00",
          "2018-03-01T00:00:00",
          "2018-04-01T00:00:00",
          "2018-05-01T00:00:00",
          "2018-06-01T00:00:00",
          "2018-07-01T00:00:00",
          "2018-08-01T00:00:00",
          "2018-09-01T00:00:00",
          "2018-10-01T00:00:00",
          "2018-11-01T00:00:00",
          "2018-12-01T00:00:00",
          "2019-01-01T00:00:00",
          "2019-02-01T00:00:00",
          "2019-03-01T00:00:00",
          "2019-04-01T00:00:00",
          "2019-05-01T00:00:00",
          "2019-06-01T00:00:00",
          "2019-07-01T00:00:00",
          "2019-08-01T00:00:00",
          "2019-09-01T00:00:00",
          "2019-10-01T00:00:00",
          "2019-11-01T00:00:00",
          "2019-12-01T00:00:00",
          "2020-01-01T00:00:00",
          "2020-02-01T00:00:00",
          "2020-03-01T00:00:00",
          "2020-04-01T00:00:00",
          "2020-05-01T00:00:00",
          "2020-06-01T00:00:00",
          "2020-07-01T00:00:00",
          "2020-08-01T00:00:00",
          "2020-09-01T00:00:00",
          "2020-10-01T00:00:00",
          "2020-11-01T00:00:00",
          "2020-12-01T00:00:00",
          "2021-01-01T00:00:00",
          "2021-02-01T00:00:00",
          "2021-03-01T00:00:00",
          "2021-04-01T00:00:00",
          "2021-05-01T00:00:00",
          "2021-06-01T00:00:00",
          "2021-07-01T00:00:00",
          "2021-08-01T00:00:00",
          "2021-09-01T00:00:00",
          "2021-10-01T00:00:00",
          "2021-11-01T00:00:00",
          "2021-12-01T00:00:00",
          "2022-01-01T00:00:00",
          "2022-02-01T00:00:00",
          "2022-03-01T00:00:00",
          "2022-04-01T00:00:00",
          "2022-05-01T00:00:00",
          "2022-06-01T00:00:00",
          "2022-07-01T00:00:00",
          "2022-08-01T00:00:00",
          "2022-09-01T00:00:00",
          "2022-10-01T00:00:00",
          "2022-11-01T00:00:00",
          "2022-12-01T00:00:00",
          "2023-01-01T00:00:00",
          "2023-02-01T00:00:00",
          "2023-03-01T00:00:00",
          "2023-04-01T00:00:00",
          "2023-05-01T00:00:00",
          "2023-06-01T00:00:00",
          "2023-07-01T00:00:00",
          "2023-08-01T00:00:00",
          "2023-09-01T00:00:00",
          "2023-10-01T00:00:00",
          "2023-11-01T00:00:00",
          "2023-12-01T00:00:00",
          "2024-01-01T00:00:00",
          "2024-02-01T00:00:00",
          "2024-03-01T00:00:00",
          "2024-04-01T00:00:00",
          "2024-05-01T00:00:00",
          "2024-06-01T00:00:00",
          "2024-07-01T00:00:00",
          "2024-08-01T00:00:00",
          "2024-09-01T00:00:00",
          "2024-10-01T00:00:00",
          "2024-11-01T00:00:00",
          "2024-12-01T00:00:00",
          "2025-01-01T00:00:00",
          "2025-02-01T00:00:00",
          "2025-03-01T00:00:00",
          "2025-04-01T00:00:00"
         ],
         "xaxis": "x",
         "y": [
          142419,
          142584,
          142120,
          143659,
          144239,
          145273,
          146743,
          146070,
          147932,
          149346,
          149131,
          150578,
          152329,
          151742,
          150525,
          154720,
          155537,
          155353,
          158267,
          157425,
          158535,
          159773,
          162004,
          163258,
          162369,
          165075,
          168330,
          168262,
          167412,
          169337,
          169514,
          172332,
          174018,
          175309,
          175761,
          176168,
          177136,
          174560,
          176376,
          176353,
          179020,
          181382,
          180019,
          181787,
          182074,
          181411,
          184327,
          184841,
          184636,
          187576,
          188237,
          189778,
          191544,
          189960,
          191113,
          191139,
          193303,
          195420,
          194860,
          195318,
          197447,
          198891,
          200352,
          197212,
          196937,
          199311,
          201751,
          201892,
          202992,
          203055,
          202778,
          203837,
          204505,
          204207,
          205311,
          208683,
          209165,
          211222,
          209658,
          207737,
          210112,
          213794,
          215194,
          217396,
          217930,
          220769,
          222199,
          223837,
          225577,
          226474,
          228424,
          230902,
          231912,
          231254,
          234425,
          239589,
          237541,
          241541,
          244533,
          239552,
          241546,
          243226,
          240979,
          242318,
          245520,
          245399,
          243846,
          243844,
          247339,
          247289,
          244514,
          249113,
          250250,
          248836,
          247336,
          249590,
          243130,
          262862,
          254084,
          249879,
          250603,
          252279,
          251542,
          254543,
          252390,
          253652,
          257339,
          259050,
          254081,
          256131,
          256350,
          259206,
          261394,
          257531,
          260566,
          261375,
          261392,
          265331,
          267683,
          270612,
          270212,
          269060,
          270161,
          271550,
          272465,
          274360,
          279692,
          277625,
          281281,
          279141,
          281350,
          281006,
          286866,
          287700,
          289679,
          293401,
          290111,
          293710,
          294743,
          297153,
          295314,
          305083,
          307320,
          303216,
          304187,
          303989,
          306566,
          306723,
          315566,
          313440,
          314471,
          316094,
          314919,
          316978,
          317984,
          318802,
          316400,
          316145,
          317123,
          320312,
          320305,
          321434,
          323708,
          322878,
          327266,
          324076,
          325455,
          327444,
          328668,
          330544,
          334021,
          329259,
          330478,
          327869,
          328493,
          328037,
          331088,
          331764,
          330301,
          327296,
          321568,
          308968,
          295396,
          287571,
          292449,
          291429,
          286022,
          287530,
          290215,
          295458,
          296928,
          302871,
          294449,
          298067,
          300583,
          301959,
          302325,
          302310,
          309525,
          312143,
          309158,
          308588,
          309543,
          310761,
          313785,
          317699,
          320695,
          323421,
          325674,
          328049,
          331161,
          333189,
          332409,
          335108,
          334922,
          335163,
          339011,
          341058,
          342214,
          343093,
          345656,
          350345,
          351748,
          349722,
          349064,
          345339,
          346936,
          351782,
          354575,
          354747,
          356158,
          357519,
          360257,
          365227,
          362148,
          360499,
          362842,
          364181,
          366243,
          365543,
          365668,
          366444,
          366868,
          369499,
          366684,
          371335,
          375285,
          379432,
          379787,
          380618,
          381045,
          384017,
          382277,
          383323,
          384459,
          380682,
          378518,
          377594,
          383681,
          383893,
          387155,
          387199,
          390953,
          390570,
          388551,
          387066,
          388530,
          389551,
          387483,
          390029,
          388998,
          391112,
          392299,
          397113,
          396545,
          396293,
          398797,
          399637,
          398680,
          405114,
          408269,
          408155,
          407630,
          409134,
          406609,
          409067,
          409113,
          409606,
          419021,
          418999,
          423224,
          425545,
          423202,
          425507,
          425087,
          425899,
          432340,
          430008,
          432070,
          432031,
          431438,
          435894,
          438612,
          428932,
          430246,
          431194,
          438196,
          437735,
          442514,
          442116,
          445304,
          448519,
          444555,
          445627,
          449040,
          449643,
          447774,
          447972,
          420954,
          370296,
          437957,
          465800,
          471873,
          473696,
          482702,
          480763,
          478079,
          485949,
          501604,
          488805,
          539607,
          542199,
          536589,
          540152,
          528600,
          532477,
          536651,
          545361,
          551082,
          547277,
          560257,
          563777,
          574485,
          580943,
          579844,
          585556,
          579267,
          581196,
          579446,
          585006,
          576356,
          569119,
          591964,
          586165,
          578812,
          583874,
          586286,
          588670,
          589257,
          595191,
          598956,
          595517,
          593567,
          594256,
          588944,
          593206,
          595969,
          596703,
          598821,
          598032,
          606077,
          604173,
          608701,
          612570,
          616833,
          622396,
          615973,
          616714,
          625784,
          625038
         ],
         "yaxis": "y"
        },
        {
         "line": {
          "color": "red"
         },
         "mode": "lines",
         "type": "scatter",
         "x": [
          "1992-03-01T00:00:00",
          "1992-03-15T00:00:00",
          "1992-03-29T00:00:00",
          "1992-04-12T00:00:00",
          "1992-04-26T00:00:00",
          "1992-05-10T00:00:00",
          "1992-05-24T00:00:00",
          "1992-06-07T00:00:00",
          "1992-06-21T00:00:00",
          "1992-07-05T00:00:00",
          "1992-07-19T00:00:00",
          "1992-08-02T00:00:00",
          "1992-08-16T00:00:00",
          "1992-08-30T00:00:00",
          "1992-09-13T00:00:00",
          "1992-09-27T00:00:00",
          "1992-10-11T00:00:00",
          "1992-10-25T00:00:00",
          "1992-11-08T00:00:00",
          "1992-11-22T00:00:00",
          "1992-12-06T00:00:00",
          "1992-12-20T00:00:00",
          "1993-01-03T00:00:00",
          "1993-01-17T00:00:00",
          "1993-01-31T00:00:00",
          "1993-02-14T00:00:00",
          "1993-02-28T00:00:00",
          "1993-03-14T00:00:00",
          "1993-03-28T00:00:00",
          "1993-04-11T00:00:00",
          "1993-04-25T00:00:00",
          "1993-05-09T00:00:00",
          "1993-05-23T00:00:00",
          "1993-06-06T00:00:00",
          "1993-06-20T00:00:00",
          "1993-07-04T00:00:00",
          "1993-07-18T00:00:00",
          "1993-08-01T00:00:00",
          "1993-08-15T00:00:00",
          "1993-08-29T00:00:00",
          "1993-09-12T00:00:00",
          "1993-09-26T00:00:00",
          "1993-10-10T00:00:00",
          "1993-10-24T00:00:00",
          "1993-11-07T00:00:00",
          "1993-11-21T00:00:00",
          "1993-12-05T00:00:00",
          "1993-12-19T00:00:00",
          "1994-01-02T00:00:00",
          "1994-01-16T00:00:00",
          "1994-01-30T00:00:00",
          "1994-02-13T00:00:00",
          "1994-02-27T00:00:00",
          "1994-03-13T00:00:00",
          "1994-03-27T00:00:00",
          "1994-04-10T00:00:00",
          "1994-04-24T00:00:00",
          "1994-05-08T00:00:00",
          "1994-05-22T00:00:00",
          "1994-06-05T00:00:00",
          "1994-06-19T00:00:00",
          "1994-07-03T00:00:00",
          "1994-07-17T00:00:00",
          "1994-07-31T00:00:00",
          "1994-08-14T00:00:00",
          "1994-08-28T00:00:00",
          "1994-09-11T00:00:00",
          "1994-09-25T00:00:00",
          "1994-10-09T00:00:00",
          "1994-10-23T00:00:00",
          "1994-11-06T00:00:00",
          "1994-11-20T00:00:00",
          "1994-12-04T00:00:00",
          "1994-12-18T00:00:00",
          "1995-01-01T00:00:00",
          "1995-01-15T00:00:00",
          "1995-01-29T00:00:00",
          "1995-02-12T00:00:00",
          "1995-02-26T00:00:00",
          "1995-03-12T00:00:00",
          "1995-03-26T00:00:00",
          "1995-04-09T00:00:00",
          "1995-04-23T00:00:00",
          "1995-05-07T00:00:00",
          "1995-05-21T00:00:00",
          "1995-06-04T00:00:00",
          "1995-06-18T00:00:00",
          "1995-07-02T00:00:00",
          "1995-07-16T00:00:00",
          "1995-07-30T00:00:00",
          "1995-08-13T00:00:00",
          "1995-08-27T00:00:00",
          "1995-09-10T00:00:00",
          "1995-09-24T00:00:00",
          "1995-10-08T00:00:00",
          "1995-10-22T00:00:00",
          "1995-11-05T00:00:00",
          "1995-11-19T00:00:00",
          "1995-12-03T00:00:00",
          "1995-12-17T00:00:00",
          "1995-12-31T00:00:00",
          "1996-01-14T00:00:00",
          "1996-01-28T00:00:00",
          "1996-02-11T00:00:00",
          "1996-02-25T00:00:00",
          "1996-03-10T00:00:00",
          "1996-03-24T00:00:00",
          "1996-04-07T00:00:00",
          "1996-04-21T00:00:00",
          "1996-05-05T00:00:00",
          "1996-05-19T00:00:00",
          "1996-06-02T00:00:00",
          "1996-06-16T00:00:00",
          "1996-06-30T00:00:00",
          "1996-07-14T00:00:00",
          "1996-07-28T00:00:00",
          "1996-08-11T00:00:00",
          "1996-08-25T00:00:00",
          "1996-09-08T00:00:00",
          "1996-09-22T00:00:00",
          "1996-10-06T00:00:00",
          "1996-10-20T00:00:00",
          "1996-11-03T00:00:00",
          "1996-11-17T00:00:00",
          "1996-12-01T00:00:00",
          "1996-12-15T00:00:00",
          "1996-12-29T00:00:00",
          "1997-01-12T00:00:00",
          "1997-01-26T00:00:00",
          "1997-02-09T00:00:00",
          "1997-02-23T00:00:00",
          "1997-03-09T00:00:00",
          "1997-03-23T00:00:00",
          "1997-04-06T00:00:00",
          "1997-04-20T00:00:00",
          "1997-05-04T00:00:00",
          "1997-05-18T00:00:00",
          "1997-06-01T00:00:00",
          "1997-06-15T00:00:00",
          "1997-06-29T00:00:00",
          "1997-07-13T00:00:00",
          "1997-07-27T00:00:00",
          "1997-08-10T00:00:00",
          "1997-08-24T00:00:00",
          "1997-09-07T00:00:00",
          "1997-09-21T00:00:00",
          "1997-10-05T00:00:00",
          "1997-10-19T00:00:00",
          "1997-11-02T00:00:00",
          "1997-11-16T00:00:00",
          "1997-11-30T00:00:00",
          "1997-12-14T00:00:00",
          "1997-12-28T00:00:00",
          "1998-01-11T00:00:00",
          "1998-01-25T00:00:00",
          "1998-02-08T00:00:00",
          "1998-02-22T00:00:00",
          "1998-03-08T00:00:00",
          "1998-03-22T00:00:00",
          "1998-04-05T00:00:00",
          "1998-04-19T00:00:00",
          "1998-05-03T00:00:00",
          "1998-05-17T00:00:00",
          "1998-05-31T00:00:00",
          "1998-06-14T00:00:00",
          "1998-06-28T00:00:00",
          "1998-07-12T00:00:00",
          "1998-07-26T00:00:00",
          "1998-08-09T00:00:00",
          "1998-08-23T00:00:00",
          "1998-09-06T00:00:00",
          "1998-09-20T00:00:00",
          "1998-10-04T00:00:00",
          "1998-10-18T00:00:00",
          "1998-11-01T00:00:00",
          "1998-11-15T00:00:00",
          "1998-11-29T00:00:00",
          "1998-12-13T00:00:00",
          "1998-12-27T00:00:00",
          "1999-01-10T00:00:00",
          "1999-01-24T00:00:00",
          "1999-02-07T00:00:00",
          "1999-02-21T00:00:00",
          "1999-03-07T00:00:00",
          "1999-03-21T00:00:00",
          "1999-04-04T00:00:00",
          "1999-04-18T00:00:00",
          "1999-05-02T00:00:00",
          "1999-05-16T00:00:00",
          "1999-05-30T00:00:00",
          "1999-06-13T00:00:00",
          "1999-06-27T00:00:00",
          "1999-07-11T00:00:00",
          "1999-07-25T00:00:00",
          "1999-08-08T00:00:00",
          "1999-08-22T00:00:00",
          "1999-09-05T00:00:00",
          "1999-09-19T00:00:00",
          "1999-10-03T00:00:00",
          "1999-10-17T00:00:00",
          "1999-10-31T00:00:00",
          "1999-11-14T00:00:00",
          "1999-11-28T00:00:00",
          "1999-12-12T00:00:00",
          "1999-12-26T00:00:00",
          "2000-01-09T00:00:00",
          "2000-01-23T00:00:00",
          "2000-02-06T00:00:00",
          "2000-02-20T00:00:00",
          "2000-03-05T00:00:00",
          "2000-03-19T00:00:00",
          "2000-04-02T00:00:00",
          "2000-04-16T00:00:00",
          "2000-04-30T00:00:00",
          "2000-05-14T00:00:00",
          "2000-05-28T00:00:00",
          "2000-06-11T00:00:00",
          "2000-06-25T00:00:00",
          "2000-07-09T00:00:00",
          "2000-07-23T00:00:00",
          "2000-08-06T00:00:00",
          "2000-08-20T00:00:00",
          "2000-09-03T00:00:00",
          "2000-09-17T00:00:00",
          "2000-10-01T00:00:00",
          "2000-10-15T00:00:00",
          "2000-10-29T00:00:00",
          "2000-11-12T00:00:00",
          "2000-11-26T00:00:00",
          "2000-12-10T00:00:00",
          "2000-12-24T00:00:00",
          "2001-01-07T00:00:00",
          "2001-01-21T00:00:00",
          "2001-02-04T00:00:00",
          "2001-02-18T00:00:00",
          "2001-03-04T00:00:00",
          "2001-03-18T00:00:00",
          "2001-04-01T00:00:00",
          "2001-04-15T00:00:00",
          "2001-04-29T00:00:00",
          "2001-05-13T00:00:00",
          "2001-05-27T00:00:00",
          "2001-06-10T00:00:00",
          "2001-06-24T00:00:00",
          "2001-07-08T00:00:00",
          "2001-07-22T00:00:00",
          "2001-08-05T00:00:00",
          "2001-08-19T00:00:00",
          "2001-09-02T00:00:00",
          "2001-09-16T00:00:00",
          "2001-09-30T00:00:00",
          "2001-10-14T00:00:00",
          "2001-10-28T00:00:00",
          "2001-11-11T00:00:00",
          "2001-11-25T00:00:00",
          "2001-12-09T00:00:00",
          "2001-12-23T00:00:00",
          "2002-01-06T00:00:00",
          "2002-01-20T00:00:00",
          "2002-02-03T00:00:00",
          "2002-02-17T00:00:00",
          "2002-03-03T00:00:00",
          "2002-03-17T00:00:00",
          "2002-03-31T00:00:00",
          "2002-04-14T00:00:00",
          "2002-04-28T00:00:00",
          "2002-05-12T00:00:00",
          "2002-05-26T00:00:00",
          "2002-06-09T00:00:00",
          "2002-06-23T00:00:00",
          "2002-07-07T00:00:00",
          "2002-07-21T00:00:00",
          "2002-08-04T00:00:00",
          "2002-08-18T00:00:00",
          "2002-09-01T00:00:00",
          "2002-09-15T00:00:00",
          "2002-09-29T00:00:00",
          "2002-10-13T00:00:00",
          "2002-10-27T00:00:00",
          "2002-11-10T00:00:00",
          "2002-11-24T00:00:00",
          "2002-12-08T00:00:00",
          "2002-12-22T00:00:00",
          "2003-01-05T00:00:00",
          "2003-01-19T00:00:00",
          "2003-02-02T00:00:00",
          "2003-02-16T00:00:00",
          "2003-03-02T00:00:00",
          "2003-03-16T00:00:00",
          "2003-03-30T00:00:00",
          "2003-04-13T00:00:00",
          "2003-04-27T00:00:00",
          "2003-05-11T00:00:00",
          "2003-05-25T00:00:00",
          "2003-06-08T00:00:00",
          "2003-06-22T00:00:00",
          "2003-07-06T00:00:00",
          "2003-07-20T00:00:00",
          "2003-08-03T00:00:00",
          "2003-08-17T00:00:00",
          "2003-08-31T00:00:00",
          "2003-09-14T00:00:00",
          "2003-09-28T00:00:00",
          "2003-10-12T00:00:00",
          "2003-10-26T00:00:00",
          "2003-11-09T00:00:00",
          "2003-11-23T00:00:00",
          "2003-12-07T00:00:00",
          "2003-12-21T00:00:00",
          "2004-01-04T00:00:00",
          "2004-01-18T00:00:00",
          "2004-02-01T00:00:00",
          "2004-02-15T00:00:00",
          "2004-02-29T00:00:00",
          "2004-03-14T00:00:00",
          "2004-03-28T00:00:00",
          "2004-04-11T00:00:00",
          "2004-04-25T00:00:00",
          "2004-05-09T00:00:00",
          "2004-05-23T00:00:00",
          "2004-06-06T00:00:00",
          "2004-06-20T00:00:00",
          "2004-07-04T00:00:00",
          "2004-07-18T00:00:00",
          "2004-08-01T00:00:00",
          "2004-08-15T00:00:00",
          "2004-08-29T00:00:00",
          "2004-09-12T00:00:00",
          "2004-09-26T00:00:00",
          "2004-10-10T00:00:00",
          "2004-10-24T00:00:00",
          "2004-11-07T00:00:00",
          "2004-11-21T00:00:00",
          "2004-12-05T00:00:00",
          "2004-12-19T00:00:00",
          "2005-01-02T00:00:00",
          "2005-01-16T00:00:00",
          "2005-01-30T00:00:00",
          "2005-02-13T00:00:00",
          "2005-02-27T00:00:00",
          "2005-03-13T00:00:00",
          "2005-03-27T00:00:00",
          "2005-04-10T00:00:00",
          "2005-04-24T00:00:00",
          "2005-05-08T00:00:00",
          "2005-05-22T00:00:00",
          "2005-06-05T00:00:00",
          "2005-06-19T00:00:00",
          "2005-07-03T00:00:00",
          "2005-07-17T00:00:00",
          "2005-07-31T00:00:00",
          "2005-08-14T00:00:00",
          "2005-08-28T00:00:00",
          "2005-09-11T00:00:00",
          "2005-09-25T00:00:00",
          "2005-10-09T00:00:00",
          "2005-10-23T00:00:00",
          "2005-11-06T00:00:00",
          "2005-11-20T00:00:00",
          "2005-12-04T00:00:00",
          "2005-12-18T00:00:00",
          "2006-01-01T00:00:00",
          "2006-01-15T00:00:00",
          "2006-01-29T00:00:00",
          "2006-02-12T00:00:00",
          "2006-02-26T00:00:00",
          "2006-03-12T00:00:00",
          "2006-03-26T00:00:00",
          "2006-04-09T00:00:00",
          "2006-04-23T00:00:00",
          "2006-05-07T00:00:00",
          "2006-05-21T00:00:00",
          "2006-06-04T00:00:00",
          "2006-06-18T00:00:00",
          "2006-07-02T00:00:00",
          "2006-07-16T00:00:00",
          "2006-07-30T00:00:00",
          "2006-08-13T00:00:00",
          "2006-08-27T00:00:00",
          "2006-09-10T00:00:00",
          "2006-09-24T00:00:00",
          "2006-10-08T00:00:00",
          "2006-10-22T00:00:00",
          "2006-11-05T00:00:00",
          "2006-11-19T00:00:00",
          "2006-12-03T00:00:00",
          "2006-12-17T00:00:00",
          "2006-12-31T00:00:00",
          "2007-01-14T00:00:00",
          "2007-01-28T00:00:00",
          "2007-02-11T00:00:00",
          "2007-02-25T00:00:00",
          "2007-03-11T00:00:00",
          "2007-03-25T00:00:00",
          "2007-04-08T00:00:00",
          "2007-04-22T00:00:00",
          "2007-05-06T00:00:00",
          "2007-05-20T00:00:00",
          "2007-06-03T00:00:00",
          "2007-06-17T00:00:00",
          "2007-07-01T00:00:00",
          "2007-07-15T00:00:00",
          "2007-07-29T00:00:00",
          "2007-08-12T00:00:00",
          "2007-08-26T00:00:00",
          "2007-09-09T00:00:00",
          "2007-09-23T00:00:00",
          "2007-10-07T00:00:00",
          "2007-10-21T00:00:00",
          "2007-11-04T00:00:00",
          "2007-11-18T00:00:00",
          "2007-12-02T00:00:00",
          "2007-12-16T00:00:00",
          "2007-12-30T00:00:00",
          "2008-01-13T00:00:00",
          "2008-01-27T00:00:00",
          "2008-02-10T00:00:00",
          "2008-02-24T00:00:00",
          "2008-03-09T00:00:00",
          "2008-03-23T00:00:00",
          "2008-04-06T00:00:00",
          "2008-04-20T00:00:00",
          "2008-05-04T00:00:00",
          "2008-05-18T00:00:00",
          "2008-06-01T00:00:00",
          "2008-06-15T00:00:00",
          "2008-06-29T00:00:00",
          "2008-07-13T00:00:00",
          "2008-07-27T00:00:00",
          "2008-08-10T00:00:00",
          "2008-08-24T00:00:00",
          "2008-09-07T00:00:00",
          "2008-09-21T00:00:00",
          "2008-10-05T00:00:00",
          "2008-10-19T00:00:00",
          "2008-11-02T00:00:00",
          "2008-11-16T00:00:00",
          "2008-11-30T00:00:00",
          "2008-12-14T00:00:00",
          "2008-12-28T00:00:00",
          "2009-01-11T00:00:00",
          "2009-01-25T00:00:00",
          "2009-02-08T00:00:00",
          "2009-02-22T00:00:00",
          "2009-03-08T00:00:00",
          "2009-03-22T00:00:00",
          "2009-04-05T00:00:00",
          "2009-04-19T00:00:00",
          "2009-05-03T00:00:00",
          "2009-05-17T00:00:00",
          "2009-05-31T00:00:00",
          "2009-06-14T00:00:00",
          "2009-06-28T00:00:00",
          "2009-07-12T00:00:00",
          "2009-07-26T00:00:00",
          "2009-08-09T00:00:00",
          "2009-08-23T00:00:00",
          "2009-09-06T00:00:00",
          "2009-09-20T00:00:00",
          "2009-10-04T00:00:00",
          "2009-10-18T00:00:00",
          "2009-11-01T00:00:00",
          "2009-11-15T00:00:00",
          "2009-11-29T00:00:00",
          "2009-12-13T00:00:00",
          "2009-12-27T00:00:00",
          "2010-01-10T00:00:00",
          "2010-01-24T00:00:00",
          "2010-02-07T00:00:00",
          "2010-02-21T00:00:00",
          "2010-03-07T00:00:00",
          "2010-03-21T00:00:00",
          "2010-04-04T00:00:00",
          "2010-04-18T00:00:00",
          "2010-05-02T00:00:00",
          "2010-05-16T00:00:00",
          "2010-05-30T00:00:00",
          "2010-06-13T00:00:00",
          "2010-06-27T00:00:00",
          "2010-07-11T00:00:00",
          "2010-07-25T00:00:00",
          "2010-08-08T00:00:00",
          "2010-08-22T00:00:00",
          "2010-09-05T00:00:00",
          "2010-09-19T00:00:00",
          "2010-10-03T00:00:00",
          "2010-10-17T00:00:00",
          "2010-10-31T00:00:00",
          "2010-11-14T00:00:00",
          "2010-11-28T00:00:00",
          "2010-12-12T00:00:00",
          "2010-12-26T00:00:00",
          "2011-01-09T00:00:00",
          "2011-01-23T00:00:00",
          "2011-02-06T00:00:00",
          "2011-02-20T00:00:00",
          "2011-03-06T00:00:00",
          "2011-03-20T00:00:00",
          "2011-04-03T00:00:00",
          "2011-04-17T00:00:00",
          "2011-05-01T00:00:00",
          "2011-05-15T00:00:00",
          "2011-05-29T00:00:00",
          "2011-06-12T00:00:00",
          "2011-06-26T00:00:00",
          "2011-07-10T00:00:00",
          "2011-07-24T00:00:00",
          "2011-08-07T00:00:00",
          "2011-08-21T00:00:00",
          "2011-09-04T00:00:00",
          "2011-09-18T00:00:00",
          "2011-10-02T00:00:00",
          "2011-10-16T00:00:00",
          "2011-10-30T00:00:00",
          "2011-11-13T00:00:00",
          "2011-11-27T00:00:00",
          "2011-12-11T00:00:00",
          "2011-12-25T00:00:00",
          "2012-01-08T00:00:00",
          "2012-01-22T00:00:00",
          "2012-02-05T00:00:00",
          "2012-02-19T00:00:00",
          "2012-03-04T00:00:00",
          "2012-03-18T00:00:00",
          "2012-04-01T00:00:00",
          "2012-04-15T00:00:00",
          "2012-04-29T00:00:00",
          "2012-05-13T00:00:00",
          "2012-05-27T00:00:00",
          "2012-06-10T00:00:00",
          "2012-06-24T00:00:00",
          "2012-07-08T00:00:00",
          "2012-07-22T00:00:00",
          "2012-08-05T00:00:00",
          "2012-08-19T00:00:00",
          "2012-09-02T00:00:00",
          "2012-09-16T00:00:00",
          "2012-09-30T00:00:00",
          "2012-10-14T00:00:00",
          "2012-10-28T00:00:00",
          "2012-11-11T00:00:00",
          "2012-11-25T00:00:00",
          "2012-12-09T00:00:00",
          "2012-12-23T00:00:00",
          "2013-01-06T00:00:00",
          "2013-01-20T00:00:00",
          "2013-02-03T00:00:00",
          "2013-02-17T00:00:00",
          "2013-03-03T00:00:00",
          "2013-03-17T00:00:00",
          "2013-03-31T00:00:00",
          "2013-04-14T00:00:00",
          "2013-04-28T00:00:00",
          "2013-05-12T00:00:00",
          "2013-05-26T00:00:00",
          "2013-06-09T00:00:00",
          "2013-06-23T00:00:00",
          "2013-07-07T00:00:00",
          "2013-07-21T00:00:00",
          "2013-08-04T00:00:00",
          "2013-08-18T00:00:00",
          "2013-09-01T00:00:00",
          "2013-09-15T00:00:00",
          "2013-09-29T00:00:00",
          "2013-10-13T00:00:00",
          "2013-10-27T00:00:00",
          "2013-11-10T00:00:00",
          "2013-11-24T00:00:00",
          "2013-12-08T00:00:00",
          "2013-12-22T00:00:00",
          "2014-01-05T00:00:00",
          "2014-01-19T00:00:00",
          "2014-02-02T00:00:00",
          "2014-02-16T00:00:00",
          "2014-03-02T00:00:00",
          "2014-03-16T00:00:00",
          "2014-03-30T00:00:00",
          "2014-04-13T00:00:00",
          "2014-04-27T00:00:00",
          "2014-05-11T00:00:00",
          "2014-05-25T00:00:00",
          "2014-06-08T00:00:00",
          "2014-06-22T00:00:00",
          "2014-07-06T00:00:00",
          "2014-07-20T00:00:00",
          "2014-08-03T00:00:00",
          "2014-08-17T00:00:00",
          "2014-08-31T00:00:00",
          "2014-09-14T00:00:00",
          "2014-09-28T00:00:00",
          "2014-10-12T00:00:00",
          "2014-10-26T00:00:00",
          "2014-11-09T00:00:00",
          "2014-11-23T00:00:00",
          "2014-12-07T00:00:00",
          "2014-12-21T00:00:00",
          "2015-01-04T00:00:00",
          "2015-01-18T00:00:00",
          "2015-02-01T00:00:00",
          "2015-02-15T00:00:00",
          "2015-03-01T00:00:00",
          "2015-03-15T00:00:00",
          "2015-03-29T00:00:00",
          "2015-04-12T00:00:00",
          "2015-04-26T00:00:00",
          "2015-05-10T00:00:00",
          "2015-05-24T00:00:00",
          "2015-06-07T00:00:00",
          "2015-06-21T00:00:00",
          "2015-07-05T00:00:00",
          "2015-07-19T00:00:00",
          "2015-08-02T00:00:00",
          "2015-08-16T00:00:00",
          "2015-08-30T00:00:00",
          "2015-09-13T00:00:00",
          "2015-09-27T00:00:00",
          "2015-10-11T00:00:00",
          "2015-10-25T00:00:00",
          "2015-11-08T00:00:00",
          "2015-11-22T00:00:00",
          "2015-12-06T00:00:00",
          "2015-12-20T00:00:00",
          "2016-01-03T00:00:00",
          "2016-01-17T00:00:00",
          "2016-01-31T00:00:00",
          "2016-02-14T00:00:00",
          "2016-02-28T00:00:00",
          "2016-03-13T00:00:00",
          "2016-03-27T00:00:00",
          "2016-04-10T00:00:00",
          "2016-04-24T00:00:00",
          "2016-05-08T00:00:00",
          "2016-05-22T00:00:00",
          "2016-06-05T00:00:00",
          "2016-06-19T00:00:00",
          "2016-07-03T00:00:00",
          "2016-07-17T00:00:00",
          "2016-07-31T00:00:00",
          "2016-08-14T00:00:00",
          "2016-08-28T00:00:00",
          "2016-09-11T00:00:00",
          "2016-09-25T00:00:00",
          "2016-10-09T00:00:00",
          "2016-10-23T00:00:00",
          "2016-11-06T00:00:00",
          "2016-11-20T00:00:00",
          "2016-12-04T00:00:00",
          "2016-12-18T00:00:00",
          "2017-01-01T00:00:00",
          "2017-01-15T00:00:00",
          "2017-01-29T00:00:00",
          "2017-02-12T00:00:00",
          "2017-02-26T00:00:00",
          "2017-03-12T00:00:00",
          "2017-03-26T00:00:00",
          "2017-04-09T00:00:00",
          "2017-04-23T00:00:00",
          "2017-05-07T00:00:00",
          "2017-05-21T00:00:00",
          "2017-06-04T00:00:00",
          "2017-06-18T00:00:00",
          "2017-07-02T00:00:00",
          "2017-07-16T00:00:00",
          "2017-07-30T00:00:00",
          "2017-08-13T00:00:00",
          "2017-08-27T00:00:00",
          "2017-09-10T00:00:00",
          "2017-09-24T00:00:00",
          "2017-10-08T00:00:00",
          "2017-10-22T00:00:00",
          "2017-11-05T00:00:00",
          "2017-11-19T00:00:00",
          "2017-12-03T00:00:00",
          "2017-12-17T00:00:00",
          "2017-12-31T00:00:00",
          "2018-01-14T00:00:00",
          "2018-01-28T00:00:00",
          "2018-02-11T00:00:00",
          "2018-02-25T00:00:00",
          "2018-03-11T00:00:00",
          "2018-03-25T00:00:00",
          "2018-04-08T00:00:00",
          "2018-04-22T00:00:00",
          "2018-05-06T00:00:00",
          "2018-05-20T00:00:00",
          "2018-06-03T00:00:00",
          "2018-06-17T00:00:00",
          "2018-07-01T00:00:00",
          "2018-07-15T00:00:00",
          "2018-07-29T00:00:00",
          "2018-08-12T00:00:00",
          "2018-08-26T00:00:00",
          "2018-09-09T00:00:00",
          "2018-09-23T00:00:00",
          "2018-10-07T00:00:00",
          "2018-10-21T00:00:00",
          "2018-11-04T00:00:00",
          "2018-11-18T00:00:00",
          "2018-12-02T00:00:00",
          "2018-12-16T00:00:00",
          "2018-12-30T00:00:00",
          "2019-01-13T00:00:00",
          "2019-01-27T00:00:00",
          "2019-02-10T00:00:00",
          "2019-02-24T00:00:00",
          "2019-03-10T00:00:00",
          "2019-03-24T00:00:00",
          "2019-04-07T00:00:00",
          "2019-04-21T00:00:00",
          "2019-05-05T00:00:00",
          "2019-05-19T00:00:00",
          "2019-06-02T00:00:00",
          "2019-06-16T00:00:00",
          "2019-06-30T00:00:00",
          "2019-07-14T00:00:00",
          "2019-07-28T00:00:00",
          "2019-08-11T00:00:00",
          "2019-08-25T00:00:00",
          "2019-09-08T00:00:00",
          "2019-09-22T00:00:00",
          "2019-10-06T00:00:00",
          "2019-10-20T00:00:00",
          "2019-11-03T00:00:00",
          "2019-11-17T00:00:00",
          "2019-12-01T00:00:00",
          "2019-12-15T00:00:00",
          "2019-12-29T00:00:00",
          "2020-01-12T00:00:00",
          "2020-01-26T00:00:00",
          "2020-02-09T00:00:00",
          "2020-02-23T00:00:00",
          "2020-03-08T00:00:00",
          "2020-03-22T00:00:00",
          "2020-04-05T00:00:00",
          "2020-04-19T00:00:00",
          "2020-05-03T00:00:00",
          "2020-05-17T00:00:00",
          "2020-05-31T00:00:00",
          "2020-06-14T00:00:00",
          "2020-06-28T00:00:00",
          "2020-07-12T00:00:00",
          "2020-07-26T00:00:00",
          "2020-08-09T00:00:00",
          "2020-08-23T00:00:00",
          "2020-09-06T00:00:00",
          "2020-09-20T00:00:00",
          "2020-10-04T00:00:00",
          "2020-10-18T00:00:00",
          "2020-11-01T00:00:00",
          "2020-11-15T00:00:00",
          "2020-11-29T00:00:00",
          "2020-12-13T00:00:00",
          "2020-12-27T00:00:00",
          "2021-01-10T00:00:00",
          "2021-01-24T00:00:00",
          "2021-02-07T00:00:00",
          "2021-02-21T00:00:00",
          "2021-03-07T00:00:00",
          "2021-03-21T00:00:00",
          "2021-04-04T00:00:00",
          "2021-04-18T00:00:00",
          "2021-05-02T00:00:00",
          "2021-05-16T00:00:00",
          "2021-05-30T00:00:00",
          "2021-06-13T00:00:00",
          "2021-06-27T00:00:00",
          "2021-07-11T00:00:00",
          "2021-07-25T00:00:00",
          "2021-08-08T00:00:00",
          "2021-08-22T00:00:00",
          "2021-09-05T00:00:00",
          "2021-09-19T00:00:00",
          "2021-10-03T00:00:00",
          "2021-10-17T00:00:00",
          "2021-10-31T00:00:00",
          "2021-11-14T00:00:00",
          "2021-11-28T00:00:00",
          "2021-12-12T00:00:00",
          "2021-12-26T00:00:00",
          "2022-01-09T00:00:00",
          "2022-01-23T00:00:00",
          "2022-02-06T00:00:00",
          "2022-02-20T00:00:00",
          "2022-03-06T00:00:00",
          "2022-03-20T00:00:00",
          "2022-04-03T00:00:00",
          "2022-04-17T00:00:00",
          "2022-05-01T00:00:00",
          "2022-05-15T00:00:00",
          "2022-05-29T00:00:00",
          "2022-06-12T00:00:00",
          "2022-06-26T00:00:00",
          "2022-07-10T00:00:00",
          "2022-07-24T00:00:00",
          "2022-08-07T00:00:00",
          "2022-08-21T00:00:00",
          "2022-09-04T00:00:00",
          "2022-09-18T00:00:00",
          "2022-10-02T00:00:00",
          "2022-10-16T00:00:00",
          "2022-10-30T00:00:00",
          "2022-11-13T00:00:00",
          "2022-11-27T00:00:00",
          "2022-12-11T00:00:00",
          "2022-12-25T00:00:00",
          "2023-01-08T00:00:00",
          "2023-01-22T00:00:00",
          "2023-02-05T00:00:00",
          "2023-02-19T00:00:00",
          "2023-03-05T00:00:00",
          "2023-03-19T00:00:00",
          "2023-04-02T00:00:00",
          "2023-04-16T00:00:00",
          "2023-04-30T00:00:00",
          "2023-05-14T00:00:00",
          "2023-05-28T00:00:00",
          "2023-06-11T00:00:00",
          "2023-06-25T00:00:00",
          "2023-07-09T00:00:00",
          "2023-07-23T00:00:00",
          "2023-08-06T00:00:00",
          "2023-08-20T00:00:00",
          "2023-09-03T00:00:00",
          "2023-09-17T00:00:00",
          "2023-10-01T00:00:00",
          "2023-10-15T00:00:00",
          "2023-10-29T00:00:00",
          "2023-11-12T00:00:00",
          "2023-11-26T00:00:00",
          "2023-12-10T00:00:00",
          "2023-12-24T00:00:00",
          "2024-01-07T00:00:00",
          "2024-01-21T00:00:00",
          "2024-02-04T00:00:00",
          "2024-02-18T00:00:00",
          "2024-03-03T00:00:00",
          "2024-03-17T00:00:00",
          "2024-03-31T00:00:00",
          "2024-04-14T00:00:00",
          "2024-04-28T00:00:00",
          "2024-05-12T00:00:00",
          "2024-05-26T00:00:00",
          "2024-06-09T00:00:00",
          "2024-06-23T00:00:00",
          "2024-07-07T00:00:00",
          "2024-07-21T00:00:00",
          "2024-08-04T00:00:00",
          "2024-08-18T00:00:00",
          "2024-09-01T00:00:00",
          "2024-09-15T00:00:00",
          "2024-09-29T00:00:00",
          "2024-10-13T00:00:00",
          "2024-10-27T00:00:00",
          "2024-11-10T00:00:00",
          "2024-11-24T00:00:00",
          "2024-12-08T00:00:00",
          "2024-12-22T00:00:00",
          "2025-01-05T00:00:00",
          "2025-01-19T00:00:00",
          "2025-02-02T00:00:00",
          "2025-02-16T00:00:00",
          "2025-03-02T00:00:00",
          "2025-03-16T00:00:00",
          "2025-03-30T00:00:00",
          "2025-04-13T00:00:00"
         ],
         "xaxis": "x2",
         "y": [
          142120,
          142533.64864864864,
          142947.2972972973,
          143360.94594594595,
          143774.5945945946,
          144188.24324324325,
          144601.8918918919,
          145015.54054054053,
          145429.1891891892,
          145842.83783783784,
          146256.48648648648,
          146670.13513513515,
          147083.7837837838,
          147497.43243243243,
          147911.0810810811,
          148324.72972972973,
          148738.37837837837,
          149152.02702702704,
          149565.67567567568,
          149979.32432432432,
          150392.97297297296,
          150806.62162162163,
          151220.27027027027,
          151633.91891891893,
          152047.56756756757,
          152461.2162162162,
          152874.86486486485,
          153288.51351351352,
          153702.16216216216,
          154115.8108108108,
          154529.45945945947,
          154943.1081081081,
          155356.75675675675,
          155770.4054054054,
          156184.05405405405,
          156597.7027027027,
          157011.35135135136,
          157425,
          157957.72972972973,
          158490.45945945947,
          159023.1891891892,
          159555.9189189189,
          160088.64864864864,
          160621.37837837837,
          161154.1081081081,
          161686.83783783784,
          162219.56756756757,
          162752.2972972973,
          163285.02702702704,
          163817.75675675675,
          164350.48648648648,
          164883.2162162162,
          165415.94594594595,
          165948.67567567568,
          166481.4054054054,
          167014.13513513515,
          167546.86486486485,
          168079.5945945946,
          168612.32432432432,
          169145.05405405405,
          169677.7837837838,
          170210.51351351352,
          170743.24324324325,
          171275.97297297296,
          171808.7027027027,
          172341.43243243243,
          172874.16216216216,
          173406.8918918919,
          173939.62162162163,
          174472.35135135136,
          175005.08108108107,
          175537.8108108108,
          176070.54054054053,
          176603.27027027027,
          177136,
          177499.64,
          177863.28,
          178226.92,
          178590.56,
          178954.2,
          179317.84,
          179681.48,
          180045.12,
          180408.76,
          180772.4,
          181136.04,
          181499.68,
          181863.32,
          182226.96,
          182590.6,
          182954.24,
          183317.88,
          183681.52,
          184045.16,
          184408.8,
          184772.44,
          185136.08,
          185499.72,
          185863.36,
          186227,
          186590.64,
          186954.28,
          187317.92,
          187681.56,
          188045.2,
          188408.84,
          188772.48,
          189136.12,
          189499.76,
          189863.4,
          190227.04,
          190590.68,
          190954.32,
          191317.96,
          191681.6,
          192045.24,
          192408.88,
          192772.52,
          193136.16,
          193499.8,
          193863.44,
          194227.08,
          194590.72,
          194954.36,
          195318,
          195625.15384615384,
          195932.3076923077,
          196239.46153846153,
          196546.61538461538,
          196853.76923076922,
          197160.92307692306,
          197468.07692307694,
          197775.23076923078,
          198082.38461538462,
          198389.53846153847,
          198696.6923076923,
          199003.84615384616,
          199311,
          199740.27027027027,
          200169.54054054053,
          200598.8108108108,
          201028.0810810811,
          201457.35135135136,
          201886.62162162163,
          202315.8918918919,
          202745.16216216216,
          203174.43243243243,
          203603.7027027027,
          204032.97297297296,
          204462.24324324325,
          204891.51351351352,
          205320.7837837838,
          205750.05405405405,
          206179.32432432432,
          206608.5945945946,
          207037.86486486485,
          207467.13513513515,
          207896.4054054054,
          208325.67567567568,
          208754.94594594595,
          209184.2162162162,
          209613.48648648648,
          210042.75675675675,
          210472.02702702704,
          210901.2972972973,
          211330.56756756757,
          211759.83783783784,
          212189.1081081081,
          212618.37837837837,
          213047.64864864864,
          213476.9189189189,
          213906.1891891892,
          214335.45945945947,
          214764.72972972973,
          215194,
          215798.1,
          216402.2,
          217006.3,
          217610.4,
          218214.5,
          218818.6,
          219422.7,
          220026.8,
          220630.9,
          221235,
          221839.1,
          222443.2,
          223047.3,
          223651.4,
          224255.5,
          224859.6,
          225463.7,
          226067.8,
          226671.9,
          227276,
          227880.1,
          228484.2,
          229088.3,
          229692.4,
          230296.5,
          230900.6,
          231504.7,
          232108.8,
          232712.9,
          233317,
          233921.1,
          234525.2,
          235129.3,
          235733.4,
          236337.5,
          236941.6,
          237545.7,
          238149.8,
          238753.9,
          239358,
          239962.1,
          240566.2,
          241170.3,
          241774.4,
          242378.5,
          242982.6,
          243586.7,
          244190.8,
          244794.9,
          245399,
          245684.6923076923,
          245970.38461538462,
          246256.07692307694,
          246541.76923076922,
          246827.46153846153,
          247113.15384615384,
          247398.84615384616,
          247684.53846153847,
          247970.23076923078,
          248255.92307692306,
          248541.61538461538,
          248827.3076923077,
          249113,
          249247.27027027027,
          249381.54054054053,
          249515.8108108108,
          249650.0810810811,
          249784.35135135136,
          249918.62162162163,
          250052.8918918919,
          250187.16216216216,
          250321.43243243243,
          250455.7027027027,
          250589.97297297296,
          250724.24324324325,
          250858.51351351352,
          250992.7837837838,
          251127.05405405405,
          251261.32432432432,
          251395.5945945946,
          251529.86486486485,
          251664.13513513515,
          251798.4054054054,
          251932.67567567568,
          252066.94594594595,
          252201.2162162162,
          252335.48648648648,
          252469.75675675675,
          252604.02702702704,
          252738.2972972973,
          252872.56756756757,
          253006.83783783784,
          253141.1081081081,
          253275.37837837837,
          253409.64864864864,
          253543.9189189189,
          253678.1891891892,
          253812.45945945947,
          253946.72972972973,
          254081,
          254629.0810810811,
          255177.16216216216,
          255725.24324324325,
          256273.32432432432,
          256821.4054054054,
          257369.48648648648,
          257917.56756756757,
          258465.64864864864,
          259013.72972972973,
          259561.8108108108,
          260109.8918918919,
          260657.97297297296,
          261206.05405405405,
          261754.13513513515,
          262302.2162162162,
          262850.2972972973,
          263398.3783783784,
          263946.45945945947,
          264494.54054054053,
          265042.6216216216,
          265590.7027027027,
          266138.7837837838,
          266686.86486486485,
          267234.9459459459,
          267783.02702702704,
          268331.1081081081,
          268879.1891891892,
          269427.2702702703,
          269975.35135135136,
          270523.4324324324,
          271071.5135135135,
          271619.5945945946,
          272167.6756756757,
          272715.75675675675,
          273263.8378378378,
          273811.91891891893,
          274360,
          274871.23076923075,
          275382.46153846156,
          275893.6923076923,
          276404.92307692306,
          276916.1538461539,
          277427.3846153846,
          277938.6153846154,
          278449.8461538461,
          278961.07692307694,
          279472.3076923077,
          279983.53846153844,
          280494.76923076925,
          281006,
          281940.0540540541,
          282874.1081081081,
          283808.1621621622,
          284742.2162162162,
          285676.2702702703,
          286610.3243243243,
          287544.3783783784,
          288478.4324324324,
          289412.4864864865,
          290346.54054054053,
          291280.5945945946,
          292214.64864864864,
          293148.7027027027,
          294082.75675675675,
          295016.8108108108,
          295950.86486486485,
          296884.91891891893,
          297818.97297297296,
          298753.02702702704,
          299687.08108108107,
          300621.13513513515,
          301555.1891891892,
          302489.24324324325,
          303423.2972972973,
          304357.35135135136,
          305291.4054054054,
          306225.45945945947,
          307159.5135135135,
          308093.5675675676,
          309027.6216216216,
          309961.6756756757,
          310895.7297297297,
          311829.7837837838,
          312763.8378378378,
          313697.8918918919,
          314631.9459459459,
          315566,
          315819.5641025641,
          316073.1282051282,
          316326.6923076923,
          316580.25641025644,
          316833.8205128205,
          317087.3846153846,
          317340.9487179487,
          317594.5128205128,
          317848.07692307694,
          318101.641025641,
          318355.2051282051,
          318608.76923076925,
          318862.3333333333,
          319115.89743589744,
          319369.46153846156,
          319623.0256410256,
          319876.58974358975,
          320130.1538461539,
          320383.71794871794,
          320637.28205128206,
          320890.8461538461,
          321144.41025641025,
          321397.9743589744,
          321651.53846153844,
          321905.10256410256,
          322158.6666666667,
          322412.23076923075,
          322665.7948717949,
          322919.358974359,
          323172.92307692306,
          323426.4871794872,
          323680.0512820513,
          323933.6153846154,
          324187.1794871795,
          324440.74358974356,
          324694.3076923077,
          324947.8717948718,
          325201.4358974359,
          325455,
          325717.875,
          325980.75,
          326243.625,
          326506.5,
          326769.375,
          327032.25,
          327295.125,
          327558,
          327820.875,
          328083.75,
          328346.625,
          328609.5,
          328872.375,
          329135.25,
          329398.125,
          329661,
          329923.875,
          330186.75,
          330449.625,
          330712.5,
          330975.375,
          331238.25,
          331501.125,
          331764,
          330921.2702702703,
          330078.54054054053,
          329235.8108108108,
          328393.08108108107,
          327550.35135135136,
          326707.6216216216,
          325864.8918918919,
          325022.1621621622,
          324179.4324324324,
          323336.7027027027,
          322493.97297297296,
          321651.24324324325,
          320808.5135135135,
          319965.7837837838,
          319123.0540540541,
          318280.3243243243,
          317437.5945945946,
          316594.86486486485,
          315752.13513513515,
          314909.4054054054,
          314066.6756756757,
          313223.9459459459,
          312381.2162162162,
          311538.4864864865,
          310695.75675675675,
          309853.02702702704,
          309010.2972972973,
          308167.5675675676,
          307324.8378378378,
          306482.1081081081,
          305639.3783783784,
          304796.64864864864,
          303953.91891891893,
          303111.1891891892,
          302268.45945945947,
          301425.7297297297,
          300583,
          301399.0512820513,
          302215.10256410256,
          303031.1538461539,
          303847.2051282051,
          304663.25641025644,
          305479.3076923077,
          306295.358974359,
          307111.41025641025,
          307927.46153846156,
          308743.5128205128,
          309559.5641025641,
          310375.6153846154,
          311191.6666666667,
          312007.71794871794,
          312823.76923076925,
          313639.8205128205,
          314455.8717948718,
          315271.92307692306,
          316087.9743589744,
          316904.0256410256,
          317720.07692307694,
          318536.1282051282,
          319352.1794871795,
          320168.23076923075,
          320984.28205128206,
          321800.3333333333,
          322616.3846153846,
          323432.4358974359,
          324248.4871794872,
          325064.53846153844,
          325880.58974358975,
          326696.641025641,
          327512.6923076923,
          328328.74358974356,
          329144.7948717949,
          329960.8461538461,
          330776.89743589744,
          331592.94871794875,
          332409,
          333130.375,
          333851.75,
          334573.125,
          335294.5,
          336015.875,
          336737.25,
          337458.625,
          338180,
          338901.375,
          339622.75,
          340344.125,
          341065.5,
          341786.875,
          342508.25,
          343229.625,
          343951,
          344672.375,
          345393.75,
          346115.125,
          346836.5,
          347557.875,
          348279.25,
          349000.625,
          349722,
          350152.97297297296,
          350583.9459459459,
          351014.91891891893,
          351445.8918918919,
          351876.86486486485,
          352307.8378378378,
          352738.8108108108,
          353169.7837837838,
          353600.75675675675,
          354031.7297297297,
          354462.7027027027,
          354893.6756756757,
          355324.64864864864,
          355755.6216216216,
          356186.5945945946,
          356617.5675675676,
          357048.54054054053,
          357479.5135135135,
          357910.4864864865,
          358341.45945945947,
          358772.4324324324,
          359203.4054054054,
          359634.3783783784,
          360065.35135135136,
          360496.3243243243,
          360927.2972972973,
          361358.2702702703,
          361789.24324324325,
          362220.2162162162,
          362651.1891891892,
          363082.1621621622,
          363513.13513513515,
          363944.1081081081,
          364375.08108108107,
          364806.0540540541,
          365237.02702702704,
          365668,
          365990.3243243243,
          366312.64864864864,
          366634.97297297296,
          366957.2972972973,
          367279.6216216216,
          367601.9459459459,
          367924.2702702703,
          368246.5945945946,
          368568.91891891893,
          368891.24324324325,
          369213.5675675676,
          369535.8918918919,
          369858.2162162162,
          370180.54054054053,
          370502.86486486485,
          370825.1891891892,
          371147.5135135135,
          371469.8378378378,
          371792.1621621622,
          372114.4864864865,
          372436.8108108108,
          372759.13513513515,
          373081.45945945947,
          373403.7837837838,
          373726.1081081081,
          374048.4324324324,
          374370.75675675675,
          374693.08108108107,
          375015.4054054054,
          375337.7297297297,
          375660.0540540541,
          375982.3783783784,
          376304.7027027027,
          376627.02702702704,
          376949.35135135136,
          377271.6756756757,
          377594,
          380637.5,
          383681,
          384193.25,
          384705.5,
          385217.75,
          385730,
          386242.25,
          386754.5,
          387266.75,
          387779,
          388291.25,
          388803.5,
          389315.75,
          389828,
          390340.25,
          390852.5,
          391364.75,
          391877,
          392389.25,
          392901.5,
          393413.75,
          393926,
          394438.25,
          394950.5,
          395462.75,
          395975,
          396487.25,
          396999.5,
          397511.75,
          398024,
          398536.25,
          399048.5,
          399560.75,
          400073,
          400585.25,
          401097.5,
          401609.75,
          402122,
          402634.25,
          403146.5,
          403658.75,
          404171,
          404683.25,
          405195.5,
          405707.75,
          406220,
          406732.25,
          407244.5,
          407756.75,
          408269,
          408879.28205128206,
          409489.5641025641,
          410099.8461538461,
          410710.1282051282,
          411320.41025641025,
          411930.6923076923,
          412540.9743589744,
          413151.25641025644,
          413761.53846153844,
          414371.8205128205,
          414982.10256410256,
          415592.3846153846,
          416202.6666666667,
          416812.94871794875,
          417423.23076923075,
          418033.5128205128,
          418643.7948717949,
          419254.07692307694,
          419864.358974359,
          420474.641025641,
          421084.92307692306,
          421695.2051282051,
          422305.4871794872,
          422915.76923076925,
          423526.0512820513,
          424136.3333333333,
          424746.6153846154,
          425356.89743589744,
          425967.1794871795,
          426577.46153846156,
          427187.74358974356,
          427798.0256410256,
          428408.3076923077,
          429018.58974358975,
          429628.8717948718,
          430239.1538461539,
          430849.4358974359,
          431459.71794871794,
          432070,
          432544.9459459459,
          433019.8918918919,
          433494.8378378378,
          433969.7837837838,
          434444.7297297297,
          434919.6756756757,
          435394.6216216216,
          435869.5675675676,
          436344.5135135135,
          436819.45945945947,
          437294.4054054054,
          437769.35135135136,
          438244.2972972973,
          438719.24324324325,
          439194.1891891892,
          439669.13513513515,
          440144.08108108107,
          440619.02702702704,
          441093.97297297296,
          441568.91891891893,
          442043.86486486485,
          442518.8108108108,
          442993.75675675675,
          443468.7027027027,
          443943.64864864864,
          444418.5945945946,
          444893.54054054053,
          445368.4864864865,
          445843.4324324324,
          446318.3783783784,
          446793.3243243243,
          447268.2702702703,
          447743.2162162162,
          448218.1621621622,
          448693.1081081081,
          449168.0540540541,
          449643,
          450827.8333333333,
          452012.6666666667,
          453197.5,
          454382.3333333333,
          455567.1666666667,
          456752,
          457936.8333333333,
          459121.6666666667,
          460306.5,
          461491.3333333333,
          462676.1666666667,
          463861,
          465045.8333333333,
          466230.6666666667,
          467415.5,
          468600.3333333333,
          469785.1666666667,
          470970,
          472154.8333333333,
          473339.6666666667,
          474524.5,
          475709.3333333333,
          476894.1666666667,
          478079,
          480688.358974359,
          483297.71794871794,
          485907.07692307694,
          488516.4358974359,
          491125.7948717949,
          493735.1538461539,
          496344.5128205128,
          498953.8717948718,
          501563.23076923075,
          504172.58974358975,
          506781.94871794875,
          509391.3076923077,
          512000.6666666667,
          514610.0256410256,
          517219.3846153846,
          519828.7435897436,
          522438.10256410256,
          525047.4615384615,
          527656.8205128205,
          530266.1794871795,
          532875.5384615385,
          535484.8974358975,
          538094.2564102564,
          540703.6153846154,
          543312.9743589744,
          545922.3333333334,
          548531.6923076923,
          551141.0512820513,
          553750.4102564103,
          556359.7692307692,
          558969.1282051282,
          561578.4871794872,
          564187.8461538461,
          566797.2051282051,
          569406.5641025641,
          572015.9230769231,
          574625.282051282,
          577234.641025641,
          579844,
          580267.5945945946,
          580691.1891891892,
          581114.7837837838,
          581538.3783783783,
          581961.972972973,
          582385.5675675676,
          582809.1621621621,
          583232.7567567568,
          583656.3513513514,
          584079.9459459459,
          584503.5405405406,
          584927.1351351351,
          585350.7297297297,
          585774.3243243244,
          586197.9189189189,
          586621.5135135135,
          587045.1081081082,
          587468.7027027027,
          587892.2972972973,
          588315.8918918918,
          588739.4864864865,
          589163.0810810811,
          589586.6756756756,
          590010.2702702703,
          590433.8648648649,
          590857.4594594594,
          591281.0540540541,
          591704.6486486486,
          592128.2432432432,
          592551.8378378379,
          592975.4324324324,
          593399.027027027,
          593822.6216216217,
          594246.2162162162,
          594669.8108108108,
          595093.4054054054,
          595517,
          596066.3333333334,
          596615.6666666666,
          597165,
          597714.3333333334,
          598263.6666666666,
          598813,
          599362.3333333334,
          599911.6666666666,
          600461,
          601010.3333333334,
          601559.6666666666,
          602109,
          602658.3333333334,
          603207.6666666666,
          603757,
          604306.3333333334,
          604855.6666666666,
          605405,
          605954.3333333334,
          606503.6666666666,
          607053,
          607602.3333333334,
          608151.6666666666,
          608701,
          608701,
          608701,
          608701,
          608701,
          608701,
          608701,
          608701,
          608701,
          608701,
          608701,
          608701,
          608701,
          608701,
          608701,
          608701,
          608701
         ],
         "yaxis": "y2"
        }
       ],
       "layout": {
        "annotations": [
         {
          "font": {
           "size": 16
          },
          "showarrow": false,
          "text": "Before Upsampling",
          "x": 0.225,
          "xanchor": "center",
          "xref": "paper",
          "y": 1,
          "yanchor": "bottom",
          "yref": "paper"
         },
         {
          "font": {
           "size": 16
          },
          "showarrow": false,
          "text": "After Upsampling",
          "x": 0.775,
          "xanchor": "center",
          "xref": "paper",
          "y": 1,
          "yanchor": "bottom",
          "yref": "paper"
         }
        ],
        "height": 600,
        "showlegend": false,
        "template": {
         "data": {
          "bar": [
           {
            "error_x": {
             "color": "#2a3f5f"
            },
            "error_y": {
             "color": "#2a3f5f"
            },
            "marker": {
             "line": {
              "color": "#E5ECF6",
              "width": 0.5
             },
             "pattern": {
              "fillmode": "overlay",
              "size": 10,
              "solidity": 0.2
             }
            },
            "type": "bar"
           }
          ],
          "barpolar": [
           {
            "marker": {
             "line": {
              "color": "#E5ECF6",
              "width": 0.5
             },
             "pattern": {
              "fillmode": "overlay",
              "size": 10,
              "solidity": 0.2
             }
            },
            "type": "barpolar"
           }
          ],
          "carpet": [
           {
            "aaxis": {
             "endlinecolor": "#2a3f5f",
             "gridcolor": "white",
             "linecolor": "white",
             "minorgridcolor": "white",
             "startlinecolor": "#2a3f5f"
            },
            "baxis": {
             "endlinecolor": "#2a3f5f",
             "gridcolor": "white",
             "linecolor": "white",
             "minorgridcolor": "white",
             "startlinecolor": "#2a3f5f"
            },
            "type": "carpet"
           }
          ],
          "choropleth": [
           {
            "colorbar": {
             "outlinewidth": 0,
             "ticks": ""
            },
            "type": "choropleth"
           }
          ],
          "contour": [
           {
            "colorbar": {
             "outlinewidth": 0,
             "ticks": ""
            },
            "colorscale": [
             [
              0,
              "#0d0887"
             ],
             [
              0.1111111111111111,
              "#46039f"
             ],
             [
              0.2222222222222222,
              "#7201a8"
             ],
             [
              0.3333333333333333,
              "#9c179e"
             ],
             [
              0.4444444444444444,
              "#bd3786"
             ],
             [
              0.5555555555555556,
              "#d8576b"
             ],
             [
              0.6666666666666666,
              "#ed7953"
             ],
             [
              0.7777777777777778,
              "#fb9f3a"
             ],
             [
              0.8888888888888888,
              "#fdca26"
             ],
             [
              1,
              "#f0f921"
             ]
            ],
            "type": "contour"
           }
          ],
          "contourcarpet": [
           {
            "colorbar": {
             "outlinewidth": 0,
             "ticks": ""
            },
            "type": "contourcarpet"
           }
          ],
          "heatmap": [
           {
            "colorbar": {
             "outlinewidth": 0,
             "ticks": ""
            },
            "colorscale": [
             [
              0,
              "#0d0887"
             ],
             [
              0.1111111111111111,
              "#46039f"
             ],
             [
              0.2222222222222222,
              "#7201a8"
             ],
             [
              0.3333333333333333,
              "#9c179e"
             ],
             [
              0.4444444444444444,
              "#bd3786"
             ],
             [
              0.5555555555555556,
              "#d8576b"
             ],
             [
              0.6666666666666666,
              "#ed7953"
             ],
             [
              0.7777777777777778,
              "#fb9f3a"
             ],
             [
              0.8888888888888888,
              "#fdca26"
             ],
             [
              1,
              "#f0f921"
             ]
            ],
            "type": "heatmap"
           }
          ],
          "heatmapgl": [
           {
            "colorbar": {
             "outlinewidth": 0,
             "ticks": ""
            },
            "colorscale": [
             [
              0,
              "#0d0887"
             ],
             [
              0.1111111111111111,
              "#46039f"
             ],
             [
              0.2222222222222222,
              "#7201a8"
             ],
             [
              0.3333333333333333,
              "#9c179e"
             ],
             [
              0.4444444444444444,
              "#bd3786"
             ],
             [
              0.5555555555555556,
              "#d8576b"
             ],
             [
              0.6666666666666666,
              "#ed7953"
             ],
             [
              0.7777777777777778,
              "#fb9f3a"
             ],
             [
              0.8888888888888888,
              "#fdca26"
             ],
             [
              1,
              "#f0f921"
             ]
            ],
            "type": "heatmapgl"
           }
          ],
          "histogram": [
           {
            "marker": {
             "pattern": {
              "fillmode": "overlay",
              "size": 10,
              "solidity": 0.2
             }
            },
            "type": "histogram"
           }
          ],
          "histogram2d": [
           {
            "colorbar": {
             "outlinewidth": 0,
             "ticks": ""
            },
            "colorscale": [
             [
              0,
              "#0d0887"
             ],
             [
              0.1111111111111111,
              "#46039f"
             ],
             [
              0.2222222222222222,
              "#7201a8"
             ],
             [
              0.3333333333333333,
              "#9c179e"
             ],
             [
              0.4444444444444444,
              "#bd3786"
             ],
             [
              0.5555555555555556,
              "#d8576b"
             ],
             [
              0.6666666666666666,
              "#ed7953"
             ],
             [
              0.7777777777777778,
              "#fb9f3a"
             ],
             [
              0.8888888888888888,
              "#fdca26"
             ],
             [
              1,
              "#f0f921"
             ]
            ],
            "type": "histogram2d"
           }
          ],
          "histogram2dcontour": [
           {
            "colorbar": {
             "outlinewidth": 0,
             "ticks": ""
            },
            "colorscale": [
             [
              0,
              "#0d0887"
             ],
             [
              0.1111111111111111,
              "#46039f"
             ],
             [
              0.2222222222222222,
              "#7201a8"
             ],
             [
              0.3333333333333333,
              "#9c179e"
             ],
             [
              0.4444444444444444,
              "#bd3786"
             ],
             [
              0.5555555555555556,
              "#d8576b"
             ],
             [
              0.6666666666666666,
              "#ed7953"
             ],
             [
              0.7777777777777778,
              "#fb9f3a"
             ],
             [
              0.8888888888888888,
              "#fdca26"
             ],
             [
              1,
              "#f0f921"
             ]
            ],
            "type": "histogram2dcontour"
           }
          ],
          "mesh3d": [
           {
            "colorbar": {
             "outlinewidth": 0,
             "ticks": ""
            },
            "type": "mesh3d"
           }
          ],
          "parcoords": [
           {
            "line": {
             "colorbar": {
              "outlinewidth": 0,
              "ticks": ""
             }
            },
            "type": "parcoords"
           }
          ],
          "pie": [
           {
            "automargin": true,
            "type": "pie"
           }
          ],
          "scatter": [
           {
            "fillpattern": {
             "fillmode": "overlay",
             "size": 10,
             "solidity": 0.2
            },
            "type": "scatter"
           }
          ],
          "scatter3d": [
           {
            "line": {
             "colorbar": {
              "outlinewidth": 0,
              "ticks": ""
             }
            },
            "marker": {
             "colorbar": {
              "outlinewidth": 0,
              "ticks": ""
             }
            },
            "type": "scatter3d"
           }
          ],
          "scattercarpet": [
           {
            "marker": {
             "colorbar": {
              "outlinewidth": 0,
              "ticks": ""
             }
            },
            "type": "scattercarpet"
           }
          ],
          "scattergeo": [
           {
            "marker": {
             "colorbar": {
              "outlinewidth": 0,
              "ticks": ""
             }
            },
            "type": "scattergeo"
           }
          ],
          "scattergl": [
           {
            "marker": {
             "colorbar": {
              "outlinewidth": 0,
              "ticks": ""
             }
            },
            "type": "scattergl"
           }
          ],
          "scattermapbox": [
           {
            "marker": {
             "colorbar": {
              "outlinewidth": 0,
              "ticks": ""
             }
            },
            "type": "scattermapbox"
           }
          ],
          "scatterpolar": [
           {
            "marker": {
             "colorbar": {
              "outlinewidth": 0,
              "ticks": ""
             }
            },
            "type": "scatterpolar"
           }
          ],
          "scatterpolargl": [
           {
            "marker": {
             "colorbar": {
              "outlinewidth": 0,
              "ticks": ""
             }
            },
            "type": "scatterpolargl"
           }
          ],
          "scatterternary": [
           {
            "marker": {
             "colorbar": {
              "outlinewidth": 0,
              "ticks": ""
             }
            },
            "type": "scatterternary"
           }
          ],
          "surface": [
           {
            "colorbar": {
             "outlinewidth": 0,
             "ticks": ""
            },
            "colorscale": [
             [
              0,
              "#0d0887"
             ],
             [
              0.1111111111111111,
              "#46039f"
             ],
             [
              0.2222222222222222,
              "#7201a8"
             ],
             [
              0.3333333333333333,
              "#9c179e"
             ],
             [
              0.4444444444444444,
              "#bd3786"
             ],
             [
              0.5555555555555556,
              "#d8576b"
             ],
             [
              0.6666666666666666,
              "#ed7953"
             ],
             [
              0.7777777777777778,
              "#fb9f3a"
             ],
             [
              0.8888888888888888,
              "#fdca26"
             ],
             [
              1,
              "#f0f921"
             ]
            ],
            "type": "surface"
           }
          ],
          "table": [
           {
            "cells": {
             "fill": {
              "color": "#EBF0F8"
             },
             "line": {
              "color": "white"
             }
            },
            "header": {
             "fill": {
              "color": "#C8D4E3"
             },
             "line": {
              "color": "white"
             }
            },
            "type": "table"
           }
          ]
         },
         "layout": {
          "annotationdefaults": {
           "arrowcolor": "#2a3f5f",
           "arrowhead": 0,
           "arrowwidth": 1
          },
          "autotypenumbers": "strict",
          "coloraxis": {
           "colorbar": {
            "outlinewidth": 0,
            "ticks": ""
           }
          },
          "colorscale": {
           "diverging": [
            [
             0,
             "#8e0152"
            ],
            [
             0.1,
             "#c51b7d"
            ],
            [
             0.2,
             "#de77ae"
            ],
            [
             0.3,
             "#f1b6da"
            ],
            [
             0.4,
             "#fde0ef"
            ],
            [
             0.5,
             "#f7f7f7"
            ],
            [
             0.6,
             "#e6f5d0"
            ],
            [
             0.7,
             "#b8e186"
            ],
            [
             0.8,
             "#7fbc41"
            ],
            [
             0.9,
             "#4d9221"
            ],
            [
             1,
             "#276419"
            ]
           ],
           "sequential": [
            [
             0,
             "#0d0887"
            ],
            [
             0.1111111111111111,
             "#46039f"
            ],
            [
             0.2222222222222222,
             "#7201a8"
            ],
            [
             0.3333333333333333,
             "#9c179e"
            ],
            [
             0.4444444444444444,
             "#bd3786"
            ],
            [
             0.5555555555555556,
             "#d8576b"
            ],
            [
             0.6666666666666666,
             "#ed7953"
            ],
            [
             0.7777777777777778,
             "#fb9f3a"
            ],
            [
             0.8888888888888888,
             "#fdca26"
            ],
            [
             1,
             "#f0f921"
            ]
           ],
           "sequentialminus": [
            [
             0,
             "#0d0887"
            ],
            [
             0.1111111111111111,
             "#46039f"
            ],
            [
             0.2222222222222222,
             "#7201a8"
            ],
            [
             0.3333333333333333,
             "#9c179e"
            ],
            [
             0.4444444444444444,
             "#bd3786"
            ],
            [
             0.5555555555555556,
             "#d8576b"
            ],
            [
             0.6666666666666666,
             "#ed7953"
            ],
            [
             0.7777777777777778,
             "#fb9f3a"
            ],
            [
             0.8888888888888888,
             "#fdca26"
            ],
            [
             1,
             "#f0f921"
            ]
           ]
          },
          "colorway": [
           "#636efa",
           "#EF553B",
           "#00cc96",
           "#ab63fa",
           "#FFA15A",
           "#19d3f3",
           "#FF6692",
           "#B6E880",
           "#FF97FF",
           "#FECB52"
          ],
          "font": {
           "color": "#2a3f5f"
          },
          "geo": {
           "bgcolor": "white",
           "lakecolor": "white",
           "landcolor": "#E5ECF6",
           "showlakes": true,
           "showland": true,
           "subunitcolor": "white"
          },
          "hoverlabel": {
           "align": "left"
          },
          "hovermode": "closest",
          "mapbox": {
           "style": "light"
          },
          "paper_bgcolor": "white",
          "plot_bgcolor": "#E5ECF6",
          "polar": {
           "angularaxis": {
            "gridcolor": "white",
            "linecolor": "white",
            "ticks": ""
           },
           "bgcolor": "#E5ECF6",
           "radialaxis": {
            "gridcolor": "white",
            "linecolor": "white",
            "ticks": ""
           }
          },
          "scene": {
           "xaxis": {
            "backgroundcolor": "#E5ECF6",
            "gridcolor": "white",
            "gridwidth": 2,
            "linecolor": "white",
            "showbackground": true,
            "ticks": "",
            "zerolinecolor": "white"
           },
           "yaxis": {
            "backgroundcolor": "#E5ECF6",
            "gridcolor": "white",
            "gridwidth": 2,
            "linecolor": "white",
            "showbackground": true,
            "ticks": "",
            "zerolinecolor": "white"
           },
           "zaxis": {
            "backgroundcolor": "#E5ECF6",
            "gridcolor": "white",
            "gridwidth": 2,
            "linecolor": "white",
            "showbackground": true,
            "ticks": "",
            "zerolinecolor": "white"
           }
          },
          "shapedefaults": {
           "line": {
            "color": "#2a3f5f"
           }
          },
          "ternary": {
           "aaxis": {
            "gridcolor": "white",
            "linecolor": "white",
            "ticks": ""
           },
           "baxis": {
            "gridcolor": "white",
            "linecolor": "white",
            "ticks": ""
           },
           "bgcolor": "#E5ECF6",
           "caxis": {
            "gridcolor": "white",
            "linecolor": "white",
            "ticks": ""
           }
          },
          "title": {
           "x": 0.05
          },
          "xaxis": {
           "automargin": true,
           "gridcolor": "white",
           "linecolor": "white",
           "ticks": "",
           "title": {
            "standoff": 15
           },
           "zerolinecolor": "white",
           "zerolinewidth": 2
          },
          "yaxis": {
           "automargin": true,
           "gridcolor": "white",
           "linecolor": "white",
           "ticks": "",
           "title": {
            "standoff": 15
           },
           "zerolinecolor": "white",
           "zerolinewidth": 2
          }
         }
        },
        "title": {
         "text": "Retail Sales Comparison: Before and After Upsampling"
        },
        "width": 1000,
        "xaxis": {
         "anchor": "y",
         "domain": [
          0,
          0.45
         ],
         "title": {
          "text": "Date"
         }
        },
        "xaxis2": {
         "anchor": "y2",
         "domain": [
          0.55,
          1
         ],
         "title": {
          "text": "Date"
         }
        },
        "yaxis": {
         "anchor": "x",
         "domain": [
          0,
          1
         ],
         "title": {
          "text": "Retail Sales in Millions (USD)"
         }
        },
        "yaxis2": {
         "anchor": "x2",
         "domain": [
          0,
          1
         ],
         "title": {
          "text": "Retail Sales in Millions (USD)"
         }
        }
       }
      }
     },
     "metadata": {},
     "output_type": "display_data"
    }
   ],
   "source": [
    "#visualize our dataset with plotly for interactivity \n",
    "\n",
    "#create a subplot of 1 row, 2 columns\n",
    "fig = make_subplots(rows = 1, cols = 2, subplot_titles = ('Before Upsampling', 'After Upsampling'))\n",
    "\n",
    "# a) plot for before upsampling \n",
    "\n",
    "fig.add_trace(\n",
    "    go.Scatter(\n",
    "        x = df.index,\n",
    "        y = df[df.columns[0]],\n",
    "        mode = 'lines',\n",
    "        line = dict(color = 'steelblue')\n",
    "    ),\n",
    "    row = 1, col = 1\n",
    ")\n",
    "\n",
    "# b) plot after upsampling\n",
    "\n",
    "fig.add_trace(\n",
    "    go.Scatter(\n",
    "        x = df_biweekly.index,\n",
    "        y = df_biweekly[df_biweekly.columns[0]],\n",
    "        mode = 'lines',\n",
    "        line = dict(color = 'red')\n",
    "    ),\n",
    "    row = 1, col = 2\n",
    ")\n",
    "\n",
    "fig.update_layout(\n",
    "    width = 1000,\n",
    "    height = 600,\n",
    "    xaxis_title = 'Date',\n",
    "    yaxis_title = 'Retail Sales in Millions (USD)',\n",
    "    title_text = 'Retail Sales Comparison: Before and After Upsampling',\n",
    "    showlegend = False\n",
    ")\n",
    "\n",
    "fig.update_xaxes(title_text = 'Date', row = 1, col = 1)\n",
    "fig.update_yaxes(title_text = 'Retail Sales in Millions (USD)', row = 1, col = 1)\n",
    "\n",
    "fig.update_xaxes(title_text = 'Date', row = 1, col = 2)\n",
    "fig.update_yaxes(title_text = 'Retail Sales in Millions (USD)', row = 1, col = 2)\n",
    "\n",
    "fig.show()"
   ]
  },
  {
   "cell_type": "markdown",
   "id": "30842b99",
   "metadata": {},
   "source": [
    "Conclusion: \n",
    "\n",
    "- From the above graphs, our series doesn't satisfy the required stationarity assumption of time series just yet. It shows an exponential trend whereby the mean is a function of time.\n",
    "\n",
    "- Why an exponential trend? The assumption is that as the Retail and Food Services sector continued growing in the United States, the overall sales also grew with each month since it got more popular across its growing population over the years.  "
   ]
  },
  {
   "cell_type": "markdown",
   "id": "5c0ccb7d",
   "metadata": {},
   "source": [
    "To prove there is a trend in our data using rolling statistics (using our df_biweekly (upsampled) data)):"
   ]
  },
  {
   "cell_type": "code",
   "execution_count": 325,
   "id": "3e9e912c",
   "metadata": {},
   "outputs": [],
   "source": [
    "roll_mean = df_biweekly.rolling(window = 4, center = False).mean() \n",
    "roll_std = df_biweekly.rolling(window = 4, center = False).std()"
   ]
  },
  {
   "cell_type": "code",
   "execution_count": 326,
   "id": "26c37cf8",
   "metadata": {},
   "outputs": [
    {
     "data": {
      "image/png": "[encoded data removed]",
      "text/plain": [
       "<Figure size 1000x600 with 1 Axes>"
      ]
     },
     "metadata": {},
     "output_type": "display_data"
    }
   ],
   "source": [
    "#to plot the rolling mean and standard deviation\n",
    "plt.figure(figsize=(10,6))\n",
    "plt.plot(df_biweekly, color = 'steelblue', label = 'Original')\n",
    "plt.plot(roll_mean, color = 'orange', label = 'Rolling Mean')\n",
    "plt.plot(roll_std, color = 'black', label = 'Rolling Std')\n",
    "plt.title('Rolling Mean and Standard Deviation')\n",
    "plt.legend(loc='best')\n",
    "plt.show()"
   ]
  },
  {
   "cell_type": "markdown",
   "id": "c781729c",
   "metadata": {},
   "source": [
    "Conclusion: \n",
    "\n",
    "- The orange line represents the rolling mean while the black line represents the rolling standard deviation. \n",
    "\n",
    "- The mean is not constant over time, meaning we can reaffirm our conclusion that the time series is not stationary based on the two statistics.  "
   ]
  },
  {
   "cell_type": "markdown",
   "id": "dcbc5e27",
   "metadata": {},
   "source": [
    "Implementing the Dickey-Fuller test to prove that our data does indeed have a trend:"
   ]
  },
  {
   "cell_type": "code",
   "execution_count": 327,
   "id": "b1274d71",
   "metadata": {},
   "outputs": [
    {
     "name": "stdout",
     "output_type": "stream",
     "text": [
      "(0.16571809017588782, 0.9702719351220528, 3, 861, {'1%': -3.4379677736185514, '5%': -2.8649026847264074, '10%': -2.568560548763626}, 11064.516871794585) \n",
      "\n",
      "Output of the Dickey-Fuller test:\n",
      "\n",
      "Test Statistic                   0.165718\n",
      "p-value                          0.970272\n",
      "#Lags Used                       3.000000\n",
      "Number of Observations Used    861.000000\n",
      "Critical Value (1%)             -3.437968\n",
      "Critical Value (5%)             -2.864903\n",
      "Critical Value (10%)            -2.568561\n",
      "dtype: float64\n"
     ]
    }
   ],
   "source": [
    "#our null hypothesis is that the time series data is not stationary\n",
    "df_test = adfuller(df_biweekly)\n",
    "\n",
    "#to extract and display the results in a human-readable format\n",
    "df_output = pd.Series(df_test[0:4], index = ['Test Statistic', 'p-value','#Lags Used', 'Number of Observations Used'])\n",
    "\n",
    "\n",
    "for key, value in df_test[4].items():\n",
    "    df_output['Critical Value (%s)'%key] = value\n",
    "\n",
    "print(df_test, '\\n')\n",
    "\n",
    "print('Output of the Dickey-Fuller test:\\n')\n",
    "\n",
    "print(df_output)"
   ]
  },
  {
   "cell_type": "markdown",
   "id": "0a3be569",
   "metadata": {},
   "source": [
    "Conclusion: \n",
    "\n",
    "- Since our test statistic is greater than the critical value at 1, 5 and 10%, we fail to reject the null hypothesis and conclude that our time series is indeed not stationary."
   ]
  },
  {
   "cell_type": "markdown",
   "id": "131b0f23",
   "metadata": {},
   "source": [
    "Removing the trend using the Differencing technique. \n",
    "\n",
    "- Why use Differencing? It's one of the most common methods of dealing with both trend and seasonality in time series data.\n",
    "\n",
    "- It works really well with removing linear trend (which is represented using the rolling mean) and helps in improving stationarity.\n",
    "\n",
    "- Here, we take the difference between an observation at a particular time instance and that at a previous time instant (1-period lag)."
   ]
  },
  {
   "cell_type": "code",
   "execution_count": 328,
   "id": "b9d36829",
   "metadata": {},
   "outputs": [
    {
     "data": {
      "text/html": [
       "<div>\n",
       "<style scoped>\n",
       "    .dataframe tbody tr th:only-of-type {\n",
       "        vertical-align: middle;\n",
       "    }\n",
       "\n",
       "    .dataframe tbody tr th {\n",
       "        vertical-align: top;\n",
       "    }\n",
       "\n",
       "    .dataframe thead th {\n",
       "        text-align: right;\n",
       "    }\n",
       "</style>\n",
       "<table border=\"1\" class=\"dataframe\">\n",
       "  <thead>\n",
       "    <tr style=\"text-align: right;\">\n",
       "      <th></th>\n",
       "      <th>RSXFS</th>\n",
       "    </tr>\n",
       "    <tr>\n",
       "      <th>date</th>\n",
       "      <th></th>\n",
       "    </tr>\n",
       "  </thead>\n",
       "  <tbody>\n",
       "    <tr>\n",
       "      <th>1992-03-01</th>\n",
       "      <td>NaN</td>\n",
       "    </tr>\n",
       "    <tr>\n",
       "      <th>1992-03-15</th>\n",
       "      <td>413.648649</td>\n",
       "    </tr>\n",
       "    <tr>\n",
       "      <th>1992-03-29</th>\n",
       "      <td>413.648649</td>\n",
       "    </tr>\n",
       "    <tr>\n",
       "      <th>1992-04-12</th>\n",
       "      <td>413.648649</td>\n",
       "    </tr>\n",
       "    <tr>\n",
       "      <th>1992-04-26</th>\n",
       "      <td>413.648649</td>\n",
       "    </tr>\n",
       "  </tbody>\n",
       "</table>\n",
       "</div>"
      ],
      "text/plain": [
       "                 RSXFS\n",
       "date                  \n",
       "1992-03-01         NaN\n",
       "1992-03-15  413.648649\n",
       "1992-03-29  413.648649\n",
       "1992-04-12  413.648649\n",
       "1992-04-26  413.648649"
      ]
     },
     "execution_count": 328,
     "metadata": {},
     "output_type": "execute_result"
    }
   ],
   "source": [
    "diff_data = df_biweekly.diff(periods=1)\n",
    "diff_data.head()"
   ]
  },
  {
   "cell_type": "code",
   "execution_count": 329,
   "id": "69838a37",
   "metadata": {},
   "outputs": [
    {
     "data": {
      "image/png": "[encoded data removed]",
      "text/plain": [
       "<Figure size 1000x400 with 1 Axes>"
      ]
     },
     "metadata": {},
     "output_type": "display_data"
    }
   ],
   "source": [
    "#to visualize the series after performing differencing\n",
    "plt.figure(figsize=(10,4))\n",
    "plt.plot(diff_data, label = \"Differenced Series\")\n",
    "plt.title(\"First-Order Differencing\")\n",
    "plt.legend()\n",
    "plt.show()"
   ]
  },
  {
   "cell_type": "code",
   "execution_count": 330,
   "id": "6f2acd99",
   "metadata": {},
   "outputs": [],
   "source": [
    "#drop the missing value \n",
    "diff_data.dropna(inplace=True)"
   ]
  },
  {
   "cell_type": "code",
   "execution_count": 331,
   "id": "f0c92e02",
   "metadata": {},
   "outputs": [
    {
     "data": {
      "text/plain": [
       "RSXFS    0\n",
       "dtype: int64"
      ]
     },
     "execution_count": 331,
     "metadata": {},
     "output_type": "execute_result"
    }
   ],
   "source": [
    "#verify there are no missing values in the data\n",
    "diff_data.isnull().sum()"
   ]
  },
  {
   "cell_type": "code",
   "execution_count": 332,
   "id": "fc450879",
   "metadata": {},
   "outputs": [
    {
     "data": {
      "text/plain": [
       "<Axes: >"
      ]
     },
     "execution_count": 332,
     "metadata": {},
     "output_type": "execute_result"
    },
    {
     "data": {
      "image/png": "[encoded data removed]",
      "text/plain": [
       "<Figure size 640x480 with 1 Axes>"
      ]
     },
     "metadata": {},
     "output_type": "display_data"
    }
   ],
   "source": [
    "#check for outliers after performing differencing using a boxplot \n",
    "diff_data.boxplot()"
   ]
  },
  {
   "cell_type": "markdown",
   "id": "466b4449",
   "metadata": {},
   "source": [
    "- The circles represent the presence of outliers.\n",
    "\n",
    "- Using the interquartile range method to remove outliers after differencing"
   ]
  },
  {
   "cell_type": "code",
   "execution_count": null,
   "id": "7d4d851e",
   "metadata": {},
   "outputs": [],
   "source": [
    "#define the outlier threshold using IQR\n",
    "Q1 = diff_data.quantile(0.25)\n",
    "Q3 = diff_data.quantile(0.75)\n",
    "IQR = Q3 - Q1\n",
    "\n",
    "lower_bound = Q1 - 1.5 * IQR\n",
    "upper_bound = Q3 + 1.5 * IQR\n",
    "\n",
    "#mask values outside the IQR bounds with NAN \n",
    "diff_data_no_outliers = diff_data.mask((diff_data < lower_bound) | (diff_data > upper_bound))"
   ]
  },
  {
   "cell_type": "code",
   "execution_count": 334,
   "id": "bc2ef0fa",
   "metadata": {},
   "outputs": [],
   "source": [
    "#impute missing values present in the data after removing outliers to maintain continuity\n",
    "diff_data_imputed = diff_data_no_outliers.interpolate(method='time').ffill().bfill()"
   ]
  },
  {
   "cell_type": "code",
   "execution_count": 335,
   "id": "fd5047d0",
   "metadata": {},
   "outputs": [
    {
     "data": {
      "image/png": "[encoded data removed]",
      "text/plain": [
       "<Figure size 1000x600 with 1 Axes>"
      ]
     },
     "metadata": {},
     "output_type": "display_data"
    }
   ],
   "source": [
    "#visualize the data before and after handling outliers \n",
    "plt.figure(figsize=(10,6))\n",
    "plt.plot(diff_data, label = 'Original Differenced Data')\n",
    "plt.plot(diff_data_imputed, label = 'Clean Data (No Outliers)')\n",
    "plt.legend(loc = 'best')\n",
    "plt.title('Differenced Data: Before and After Outlier Removal')\n",
    "plt.show(block=False)"
   ]
  },
  {
   "cell_type": "markdown",
   "id": "44fa91d1",
   "metadata": {},
   "source": [
    "Conclusion:\n",
    "\n",
    "- After removing outliers in our differenced data, the orange line shows that our series shows some kind of stationarity. We can confirm this by performing a Dickey-Fuller Test as follows:"
   ]
  },
  {
   "cell_type": "code",
   "execution_count": 336,
   "id": "34049c7e",
   "metadata": {},
   "outputs": [
    {
     "name": "stdout",
     "output_type": "stream",
     "text": [
      "(-2.7914840721114715, 0.059500541890157084, 0, 863, {'1%': -3.4379500665211276, '5%': -2.864894878219008, '10%': -2.5685563904109867}, 8688.885539626763) \n",
      "\n",
      "Output of the Dickey-Fuller Test after Differencing \n",
      "\n",
      "Test Statistic                  -2.791484\n",
      "p-value                          0.059501\n",
      "#Lags Used                       0.000000\n",
      "Number of Observations Used    863.000000\n",
      "Critical Value (1%)             -3.437950\n",
      "Critical Value (5%)             -2.864895\n",
      "Critical Value (10%)            -2.568556\n",
      "dtype: float64\n"
     ]
    }
   ],
   "source": [
    "diff_data_test = adfuller(diff_data_imputed)\n",
    "\n",
    "diff_data_output = pd.Series(diff_data_test[0:4], index = ['Test Statistic','p-value','#Lags Used', 'Number of Observations Used'])\n",
    "\n",
    "for key, value in diff_data_test[4].items():\n",
    "    diff_data_output['Critical Value (%s)'%key] = value\n",
    "\n",
    "print(diff_data_test, '\\n')\n",
    "\n",
    "print('Output of the Dickey-Fuller Test after Differencing \\n')\n",
    "\n",
    "print(diff_data_output)"
   ]
  },
  {
   "cell_type": "markdown",
   "id": "da2c3a86",
   "metadata": {},
   "source": [
    "Interpretation: \n",
    "\n",
    "- The null hypothesis is that the time series data is not stationary. \n",
    "\n",
    "- The test statistic (-2.791) is less than the critical value at 10% (-2.569), therefore, we reject the null hypothesis and conclude that the series is likely stationary after performing differencing.\n",
    "\n",
    "- We can now conclude that the statistical properties, i.e. mean, variance and covariance are constant over time but at 10% significance level."
   ]
  },
  {
   "cell_type": "markdown",
   "id": "94f1ce41",
   "metadata": {},
   "source": [
    "To observe seasonality using decomposition. Time series decomposition splits the series into three component series namely:\n",
    "\n",
    "- Seasonal: Patterns that repeat within a fixed period.\n",
    "\n",
    "- Trend: The underlying trend of the metric.\n",
    "\n",
    "- Random (noise, irregular or remainder): The residual of the original time series after the seasonal and trend series are removed.  "
   ]
  },
  {
   "cell_type": "code",
   "execution_count": null,
   "id": "ac5b3e83",
   "metadata": {},
   "outputs": [],
   "source": [
    "# series = diff_data_imputed.copy()\n",
    "# series = series[series.columns[0]]"
   ]
  },
  {
   "cell_type": "code",
   "execution_count": 339,
   "id": "e653b5c5",
   "metadata": {},
   "outputs": [
    {
     "name": "stdout",
     "output_type": "stream",
     "text": [
      "<class 'pandas.core.series.Series'>\n"
     ]
    }
   ],
   "source": [
    "series = diff_data_imputed['RSXFS']\n",
    "\n",
    "print(type(series))"
   ]
  },
  {
   "cell_type": "code",
   "execution_count": 341,
   "id": "b914ac1e",
   "metadata": {},
   "outputs": [
    {
     "name": "stdout",
     "output_type": "stream",
     "text": [
      "0 \n",
      "\n",
      "0\n"
     ]
    }
   ],
   "source": [
    "#handle negative or zero values before logging and convert them to positive values\n",
    "if(series <=0).any():\n",
    "    series = series + abs(series.min()) + 1\n",
    "\n",
    "#transform the series \n",
    "series = np.log(series)\n",
    "\n",
    "#remove any NaNs or Infs\n",
    "series = series.replace([np.inf, -np.inf], np.nan).dropna()\n",
    "\n",
    "#to verify that there are no missing values in the series\n",
    "print(series.isna().sum(), '\\n')\n",
    "\n",
    "print(np.isinf(series).sum())"
   ]
  },
  {
   "cell_type": "code",
   "execution_count": null,
   "id": "46bd5682",
   "metadata": {},
   "outputs": [
    {
     "data": {
      "image/png": "[encoded data removed]",
      "text/plain": [
       "<Figure size 1000x800 with 4 Axes>"
      ]
     },
     "metadata": {},
     "output_type": "display_data"
    }
   ],
   "source": [
    "decomposition = seasonal_decompose(series, model='additive', period=26)\n",
    "\n",
    "#get the trend, seasonality and residuals\n",
    "trend = decomposition.trend\n",
    "seasonal = decomposition.seasonal\n",
    "residual = decomposition.resid\n",
    "\n",
    "#plot the components\n",
    "plt.figure(figsize=(10,8))\n",
    "\n",
    "plt.subplot(411)\n",
    "plt.plot(np.log(df), label = 'Original', color = 'steelblue')\n",
    "plt.legend(loc = 'best')\n",
    "\n",
    "plt.subplot(412)\n",
    "plt.plot(trend, label = 'Trend', color = 'steelblue')\n",
    "plt.legend(loc = 'best')\n",
    "\n",
    "plt.subplot(413)\n",
    "plt.plot(seasonal, label = 'Seasonality', color = 'steelblue')\n",
    "plt.legend(loc = 'best')\n",
    "\n",
    "plt.subplot(414)\n",
    "plt.plot(residual, label = 'Residuals', color = 'steelblue')\n",
    "plt.legend(loc = 'best')\n",
    "\n",
    "plt.tight_layout()\n"
   ]
  },
  {
   "cell_type": "markdown",
   "id": "67eac944",
   "metadata": {},
   "source": [
    "To check for Autocorrelation using the Autocorrelation Function (Plot):\n",
    "\n",
    "- Checks how each time series observation is related to it past or recent past. \n",
    "\n",
    "- The dotted lines imply the statistical significance of the correlation. \n",
    "\n",
    "- In this case, most spikes fall within the confidence bounds (dotted lines). \n",
    "\n",
    "- Since no large spikes are above or below the confidence bounds, that means there is no significant autocorrelation left, as well as no trend or seasonality in the series."
   ]
  },
  {
   "cell_type": "code",
   "execution_count": null,
   "id": "6b903652",
   "metadata": {},
   "outputs": [
    {
     "data": {
      "image/png": "[encoded data removed]",
      "text/plain": [
       "<Figure size 640x480 with 1 Axes>"
      ]
     },
     "metadata": {},
     "output_type": "display_data"
    }
   ],
   "source": [
    "# plt.figure(figsize=(10,4))\n",
    "# pd.plotting.autocorrelation_plot(diff_data_imputed);\n",
    "plot_acf(diff_data_imputed, lags=40);\n",
    "plt.show()"
   ]
  },
  {
   "cell_type": "markdown",
   "id": "d75f81b0",
   "metadata": {},
   "source": [
    "Modeling using ARMA (2,1). I am buliding a model where:\n",
    "\n",
    "- The AR (autoregressive part) has an order of 2.\n",
    "\n",
    "- The MA (moving average part) has an order of 1. \n",
    "\n",
    "- Therefore, it's a second-order AR model combined with a first-order MA model.\n",
    "\n",
    "- Why ARIMA? Since my data is time-dependent (sales are recorded over time), ARIMA has the capability to exploit patterns over time. \n",
    "\n",
    "- ARIMA is also designed for forecasting, meaning it will be ideal for predicting future sales based on past trends. \n",
    "\n",
    "- ARIMA captures both long-term and short-term irregularities since retail sales either trend upward or downward over time or fluctuate due to external shocks like holidays, inflation, or pandemics. \n",
    "\n",
    "- My data is univariate (it only has a single variable over time, i.e. retail sales) and ARIMA is best suited for univariate time series. "
   ]
  },
  {
   "cell_type": "code",
   "execution_count": null,
   "id": "74fb7be4",
   "metadata": {},
   "outputs": [],
   "source": [
    "#split the data into train and test sets using the date, i.e. 1st January 2020\n",
    "split_date = '2020-01-01'\n",
    "\n",
    "#the data before 1st January 2020 will be used for training\n",
    "train = diff_data_imputed.loc[diff_data_imputed.index < split_date] \n",
    "\n",
    "#the data from 1st January 2020 onwards will be used for testing\n",
    "test = diff_data_imputed.loc[diff_data_imputed.index >= split_date] "
   ]
  },
  {
   "cell_type": "code",
   "execution_count": null,
   "id": "3ce5853b",
   "metadata": {},
   "outputs": [
    {
     "name": "stdout",
     "output_type": "stream",
     "text": [
      "<class 'pandas.core.frame.DataFrame'>\n",
      "<class 'pandas.core.frame.DataFrame'>\n"
     ]
    }
   ],
   "source": [
    "print(type(train))\n",
    "print(type(test))"
   ]
  },
  {
   "cell_type": "code",
   "execution_count": null,
   "id": "cf6b0ffe",
   "metadata": {},
   "outputs": [],
   "source": [
    "#convert the train and test data into a series since ARIMA requires data in a series format, not dataframe\n",
    "train_series = train['RSXFS']\n",
    "test_series = test['RSXFS']"
   ]
  },
  {
   "cell_type": "code",
   "execution_count": null,
   "id": "046bf153",
   "metadata": {},
   "outputs": [
    {
     "name": "stdout",
     "output_type": "stream",
     "text": [
      "<class 'pandas.core.series.Series'>\n",
      "<class 'pandas.core.series.Series'>\n"
     ]
    }
   ],
   "source": [
    "print(type(train_series))\n",
    "print(type(test_series))"
   ]
  },
  {
   "cell_type": "code",
   "execution_count": null,
   "id": "27922f12",
   "metadata": {},
   "outputs": [
    {
     "name": "stdout",
     "output_type": "stream",
     "text": [
      "Performing stepwise search to minimize aic\n",
      " ARIMA(0,1,0)(0,0,0)[0] intercept   : AIC=7424.805, Time=0.08 sec\n",
      " ARIMA(1,1,0)(0,0,0)[0] intercept   : AIC=7426.676, Time=0.08 sec\n",
      " ARIMA(0,1,1)(0,0,0)[0] intercept   : AIC=7426.678, Time=0.13 sec\n",
      " ARIMA(0,1,0)(0,0,0)[0]             : AIC=7422.808, Time=0.03 sec\n",
      " ARIMA(1,1,1)(0,0,0)[0] intercept   : AIC=7428.327, Time=0.52 sec\n",
      "\n",
      "Best model:  ARIMA(0,1,0)(0,0,0)[0]          \n",
      "Total fit time: 0.846 seconds\n",
      "                               SARIMAX Results                                \n",
      "==============================================================================\n",
      "Dep. Variable:                      y   No. Observations:                  726\n",
      "Model:               SARIMAX(0, 1, 0)   Log Likelihood               -3710.404\n",
      "Date:                Wed, 21 May 2025   AIC                           7422.808\n",
      "Time:                        14:23:33   BIC                           7427.394\n",
      "Sample:                    03-15-1992   HQIC                          7424.578\n",
      "                         - 12-29-2019                                         \n",
      "Covariance Type:                  opg                                         \n",
      "==============================================================================\n",
      "                 coef    std err          z      P>|z|      [0.025      0.975]\n",
      "------------------------------------------------------------------------------\n",
      "sigma2      1632.2616      9.818    166.259      0.000    1613.020    1651.504\n",
      "===================================================================================\n",
      "Ljung-Box (L1) (Q):                   0.13   Jarque-Bera (JB):            687423.26\n",
      "Prob(Q):                              0.72   Prob(JB):                         0.00\n",
      "Heteroskedasticity (H):               0.67   Skew:                            -4.77\n",
      "Prob(H) (two-sided):                  0.00   Kurtosis:                       153.55\n",
      "===================================================================================\n",
      "\n",
      "Warnings:\n",
      "[1] Covariance matrix calculated using the outer product of gradients (complex-step).\n"
     ]
    }
   ],
   "source": [
    "from pmdarima import auto_arima\n",
    "\n",
    "model = auto_arima(\n",
    "    train_series,\n",
    "    start_p = 0, max_p = 5,\n",
    "    start_q = 0, max_q = 5,\n",
    "    d = None,\n",
    "    seasonal = False,\n",
    "    stepwise = True,\n",
    "    trace = True\n",
    ")\n",
    "\n",
    "print(model.summary())"
   ]
  },
  {
   "cell_type": "code",
   "execution_count": null,
   "id": "03e45054",
   "metadata": {},
   "outputs": [],
   "source": [
    "# model = ARIMA(train_series, order=(2,0,1))\n",
    "# result = model.fit()\n",
    "# print(result.summary())"
   ]
  },
  {
   "cell_type": "code",
   "execution_count": null,
   "id": "a629480c",
   "metadata": {},
   "outputs": [
    {
     "name": "stdout",
     "output_type": "stream",
     "text": [
      "<bound method ARIMA.params of ARIMA(order=(0, 1, 0), scoring_args={}, suppress_warnings=True,\n",
      "      with_intercept=False)>\n"
     ]
    }
   ],
   "source": [
    "print(model.params)"
   ]
  },
  {
   "cell_type": "markdown",
   "id": "0c9d4548",
   "metadata": {},
   "source": [
    "Forecast and evaluate on the test series"
   ]
  },
  {
   "cell_type": "code",
   "execution_count": null,
   "id": "008bcb0f",
   "metadata": {},
   "outputs": [
    {
     "data": {
      "image/png": "[encoded data removed]",
      "text/plain": [
       "<Figure size 1000x400 with 1 Axes>"
      ]
     },
     "metadata": {},
     "output_type": "display_data"
    }
   ],
   "source": [
    "#using the trained ARIMA model to predict the same number of steps as the test set\n",
    "forecast = model.predict(n_periods=len(test_series))\n",
    "\n",
    "plt.figure(figsize=(10,4))\n",
    "plt.plot(train_series.index, train_series, label = 'Training')\n",
    "plt.plot(test_series.index, test_series, label = 'Actual')\n",
    "plt.plot(test_series.index, forecast, label = 'Forecast', linestyle = '--')\n",
    "plt.xlabel('Date')\n",
    "plt.ylabel('Value')\n",
    "plt.legend()\n",
    "plt.title('ARIMA Forecast vs Actual')\n",
    "plt.show()"
   ]
  },
  {
   "cell_type": "markdown",
   "id": "02b343d8",
   "metadata": {},
   "source": [
    "Using evaluation metrics (mean absolute error and mean squared error) to test the performance of my model:"
   ]
  },
  {
   "cell_type": "code",
   "execution_count": null,
   "id": "8a1db73b",
   "metadata": {},
   "outputs": [],
   "source": [
    "mae = mean_absolute_error(test_series, forecast)\n",
    "mse = mean_squared_error(test_series, forecast)\n",
    "rmse =np.sqrt(mse)"
   ]
  },
  {
   "cell_type": "code",
   "execution_count": null,
   "id": "ab90a44d",
   "metadata": {},
   "outputs": [
    {
     "name": "stdout",
     "output_type": "stream",
     "text": [
      "Mean Absolute Error: 92.43\n",
      "Root Mean Squared Error: 167.35\n"
     ]
    }
   ],
   "source": [
    "print(f'Mean Absolute Error: {mae:.2f}')\n",
    "print(f'Root Mean Squared Error: {rmse:.2f}')"
   ]
  },
  {
   "cell_type": "markdown",
   "id": "9aa77b86",
   "metadata": {},
   "source": [
    "Interpretation of the error metrics:\n",
    "\n",
    "- Using the mean abslolute error, the model forecasting is off by USD 45 million on average. \n",
    "\n",
    "- Using Mean Absolute Percentage Error to explain by what percentage my model performance is off by:"
   ]
  },
  {
   "cell_type": "code",
   "execution_count": null,
   "id": "2a006ddb",
   "metadata": {},
   "outputs": [
    {
     "name": "stdout",
     "output_type": "stream",
     "text": [
      "MAPE: 247158182605254464.00%\n"
     ]
    }
   ],
   "source": [
    "mape = mean_absolute_percentage_error(test_series, forecast)\n",
    "print(f'MAPE: {mape:.2f}%')"
   ]
  },
  {
   "cell_type": "markdown",
   "id": "18c3cdfc",
   "metadata": {},
   "source": [
    "- This implies that my model performance is off by 0.1%. Since the relative error is less than 10%, this means that the model has an excellent forcasting acuracy.\n",
    "\n",
    "- The model is making errors that are less than 1% of the actua sales values on average."
   ]
  },
  {
   "cell_type": "markdown",
   "id": "997f3240",
   "metadata": {},
   "source": [
    "Residual Analysis to assess the quality of the model's prediction "
   ]
  },
  {
   "cell_type": "code",
   "execution_count": null,
   "id": "061261ad",
   "metadata": {},
   "outputs": [
    {
     "data": {
      "image/png": "[encoded data removed]",
      "text/plain": [
       "<Figure size 640x480 with 1 Axes>"
      ]
     },
     "metadata": {},
     "output_type": "display_data"
    }
   ],
   "source": [
    "#calculate the residuals\n",
    "residuals = test_series - forecast\n",
    "\n",
    "#plot the ACF of residuals\n",
    "plot_acf(residuals, lags=40)\n",
    "plt.show()"
   ]
  },
  {
   "cell_type": "markdown",
   "id": "2d8289d7",
   "metadata": {},
   "source": [
    "Interpretation: \n",
    "\n",
    "- Since most lags fall within the blue bounds, this implies that the residuals are uncorrelated, meaning that the model has managed to capture trend and seasonality in the data, hence performing well."
   ]
  },
  {
   "cell_type": "markdown",
   "id": "778cc77f",
   "metadata": {},
   "source": []
  },
  {
   "cell_type": "markdown",
   "id": "4e0e4257",
   "metadata": {},
   "source": [
    "<!-- Modeling -->"
   ]
  },
  {
   "cell_type": "markdown",
   "id": "ea557c6e",
   "metadata": {},
   "source": []
  }
 ],
 "metadata": {
  "kernelspec": {
   "display_name": "Python 3",
   "language": "python",
   "name": "python3"
  },
  "language_info": {
   "codemirror_mode": {
    "name": "ipython",
    "version": 3
   },
   "file_extension": ".py",
   "mimetype": "text/x-python",
   "name": "python",
   "nbconvert_exporter": "python",
   "pygments_lexer": "ipython3",
   "version": "3.12.2"
  }
 },
 "nbformat": 4,
 "nbformat_minor": 5
}
